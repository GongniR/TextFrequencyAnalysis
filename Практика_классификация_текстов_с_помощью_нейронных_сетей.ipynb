{
  "cells": [
    {
      "cell_type": "markdown",
      "metadata": {
        "id": "K-BAqDEY4ldv"
      },
      "source": [
        "## Классификация Текстов \n",
        "\n",
        "\n",
        "Используется три архитектуры нейронных сетей:\n",
        "- Одномерная сверточная нейросеть\n",
        "- Рекуррентная нейросеть LSTM\n",
        "- Рекуррентная нейросеть GRU\n"
      ]
    },
    {
      "cell_type": "code",
      "execution_count": 1,
      "metadata": {
        "id": "fN251ib04idq"
      },
      "outputs": [],
      "source": [
        "from tensorflow.keras.models import Sequential\n",
        "from tensorflow.keras.layers import Dense, Embedding, MaxPooling1D, Conv1D, GlobalMaxPooling1D, Dropout, LSTM, GRU\n",
        "from tensorflow.keras import utils\n",
        "from tensorflow.keras.preprocessing.sequence import pad_sequences\n",
        "from tensorflow.keras.preprocessing.text import Tokenizer\n",
        "from tensorflow.keras.callbacks import ModelCheckpoint\n",
        "from tensorflow.keras import utils\n",
        "import pandas as pd\n",
        "import numpy as np\n",
        "import matplotlib.pyplot as plt\n"
      ]
    },
    {
      "cell_type": "code",
      "execution_count": 2,
      "metadata": {
        "id": "KVUY1PF0L_mF"
      },
      "outputs": [],
      "source": [
        "# Максимальное количество слов \n",
        "num_words = 10000\n",
        "# Максимальная длина новости\n",
        "max_news_len = 30\n",
        "# Количество классов новостей\n",
        "nb_classes = 4"
      ]
    },
    {
      "cell_type": "markdown",
      "metadata": {
        "id": "S6itvI2G5H1k"
      },
      "source": [
        "## Загрузка набора данных"
      ]
    },
    {
      "cell_type": "markdown",
      "metadata": {
        "id": "-koXVGyC1odV"
      },
      "source": [
        "Загружаем данные для обучения"
      ]
    },
    {
      "cell_type": "code",
      "execution_count": 3,
      "metadata": {
        "colab": {
          "base_uri": "https://localhost:8080/"
        },
        "id": "TYf3S7he5KIU",
        "outputId": "65a71036-fd1c-4973-ce83-cad449518356"
      },
      "outputs": [
        {
          "output_type": "stream",
          "name": "stdout",
          "text": [
            "--2023-01-24 20:32:07--  https://github.com/mhjabreel/CharCnn_Keras/raw/master/data/ag_news_csv/train.csv\n",
            "Resolving github.com (github.com)... 20.205.243.166\n",
            "Connecting to github.com (github.com)|20.205.243.166|:443... connected.\n",
            "HTTP request sent, awaiting response... 302 Found\n",
            "Location: https://raw.githubusercontent.com/mhjabreel/CharCnn_Keras/master/data/ag_news_csv/train.csv [following]\n",
            "--2023-01-24 20:32:07--  https://raw.githubusercontent.com/mhjabreel/CharCnn_Keras/master/data/ag_news_csv/train.csv\n",
            "Resolving raw.githubusercontent.com (raw.githubusercontent.com)... 185.199.108.133, 185.199.109.133, 185.199.110.133, ...\n",
            "Connecting to raw.githubusercontent.com (raw.githubusercontent.com)|185.199.108.133|:443... connected.\n",
            "HTTP request sent, awaiting response... 200 OK\n",
            "Length: 29470338 (28M) [text/plain]\n",
            "Saving to: ‘train.csv’\n",
            "\n",
            "train.csv           100%[===================>]  28.10M  --.-KB/s    in 0.07s   \n",
            "\n",
            "2023-01-24 20:32:10 (383 MB/s) - ‘train.csv’ saved [29470338/29470338]\n",
            "\n"
          ]
        }
      ],
      "source": [
        "!wget https://github.com/mhjabreel/CharCnn_Keras/raw/master/data/ag_news_csv/train.csv -O train.csv"
      ]
    },
    {
      "cell_type": "markdown",
      "metadata": {
        "id": "5HrnxF5Z1uO7"
      },
      "source": [
        "Загружаем данные для тестирования"
      ]
    },
    {
      "cell_type": "code",
      "execution_count": 4,
      "metadata": {
        "colab": {
          "base_uri": "https://localhost:8080/"
        },
        "id": "jCmKO8zM1tZT",
        "outputId": "1808693b-a8a6-48a8-d2a0-2b794bddd475"
      },
      "outputs": [
        {
          "output_type": "stream",
          "name": "stdout",
          "text": [
            "--2023-01-24 20:32:10--  https://github.com/mhjabreel/CharCnn_Keras/raw/master/data/ag_news_csv/test.csv\n",
            "Resolving github.com (github.com)... 20.205.243.166\n",
            "Connecting to github.com (github.com)|20.205.243.166|:443... connected.\n",
            "HTTP request sent, awaiting response... 302 Found\n",
            "Location: https://raw.githubusercontent.com/mhjabreel/CharCnn_Keras/master/data/ag_news_csv/test.csv [following]\n",
            "--2023-01-24 20:32:11--  https://raw.githubusercontent.com/mhjabreel/CharCnn_Keras/master/data/ag_news_csv/test.csv\n",
            "Resolving raw.githubusercontent.com (raw.githubusercontent.com)... 185.199.108.133, 185.199.109.133, 185.199.110.133, ...\n",
            "Connecting to raw.githubusercontent.com (raw.githubusercontent.com)|185.199.108.133|:443... connected.\n",
            "HTTP request sent, awaiting response... 200 OK\n",
            "Length: 1857427 (1.8M) [text/plain]\n",
            "Saving to: ‘test.csv’\n",
            "\n",
            "test.csv            100%[===================>]   1.77M  --.-KB/s    in 0.01s   \n",
            "\n",
            "2023-01-24 20:32:11 (177 MB/s) - ‘test.csv’ saved [1857427/1857427]\n",
            "\n"
          ]
        }
      ],
      "source": [
        "!wget https://github.com/mhjabreel/CharCnn_Keras/raw/master/data/ag_news_csv/test.csv -O test.csv"
      ]
    },
    {
      "cell_type": "markdown",
      "metadata": {
        "id": "HsRzWdOL1z17"
      },
      "source": [
        "Загружаем имена классов"
      ]
    },
    {
      "cell_type": "code",
      "execution_count": 5,
      "metadata": {
        "colab": {
          "base_uri": "https://localhost:8080/"
        },
        "id": "RH95SEXB5R0V",
        "outputId": "54a79b66-58b8-4ab1-e704-01cc53f92b05"
      },
      "outputs": [
        {
          "output_type": "stream",
          "name": "stdout",
          "text": [
            "--2023-01-24 20:32:11--  https://raw.githubusercontent.com/mhjabreel/CharCnn_Keras/master/data/ag_news_csv/classes.txt\n",
            "Resolving raw.githubusercontent.com (raw.githubusercontent.com)... 185.199.109.133, 185.199.108.133, 185.199.110.133, ...\n",
            "Connecting to raw.githubusercontent.com (raw.githubusercontent.com)|185.199.109.133|:443... connected.\n",
            "HTTP request sent, awaiting response... 200 OK\n",
            "Length: 31 [text/plain]\n",
            "Saving to: ‘classes.txt’\n",
            "\n",
            "classes.txt         100%[===================>]      31  --.-KB/s    in 0s      \n",
            "\n",
            "2023-01-24 20:32:11 (1.89 MB/s) - ‘classes.txt’ saved [31/31]\n",
            "\n"
          ]
        }
      ],
      "source": [
        "!wget https://raw.githubusercontent.com/mhjabreel/CharCnn_Keras/master/data/ag_news_csv/classes.txt -O classes.txt"
      ]
    },
    {
      "cell_type": "markdown",
      "metadata": {
        "id": "131Gk9fzGVMg"
      },
      "source": [
        "## Просматриваем данные"
      ]
    },
    {
      "cell_type": "code",
      "execution_count": 6,
      "metadata": {
        "colab": {
          "base_uri": "https://localhost:8080/"
        },
        "id": "V116c5A82IeD",
        "outputId": "8c00b773-deb1-4d60-913d-d9267082fb22"
      },
      "outputs": [
        {
          "output_type": "stream",
          "name": "stdout",
          "text": [
            "classes.txt  sample_data  test.csv  train.csv\n"
          ]
        }
      ],
      "source": [
        "!ls"
      ]
    },
    {
      "cell_type": "code",
      "execution_count": 7,
      "metadata": {
        "colab": {
          "base_uri": "https://localhost:8080/"
        },
        "id": "uRj7M24mGRmH",
        "outputId": "3736d77b-8141-42dc-e254-de4ff6f6ec57"
      },
      "outputs": [
        {
          "output_type": "stream",
          "name": "stdout",
          "text": [
            "World\n",
            "Sports\n",
            "Business\n",
            "Sci/Tech\n"
          ]
        }
      ],
      "source": [
        "!cat classes.txt"
      ]
    },
    {
      "cell_type": "code",
      "execution_count": 8,
      "metadata": {
        "colab": {
          "base_uri": "https://localhost:8080/"
        },
        "id": "k6_oiP9NGlI2",
        "outputId": "372440e5-4041-4950-cda1-9ee5d54b591b"
      },
      "outputs": [
        {
          "output_type": "stream",
          "name": "stdout",
          "text": [
            "\"3\",\"Wall St. Bears Claw Back Into the Black (Reuters)\",\"Reuters - Short-sellers, Wall Street's dwindling\\band of ultra-cynics, are seeing green again.\"\n",
            "\"3\",\"Carlyle Looks Toward Commercial Aerospace (Reuters)\",\"Reuters - Private investment firm Carlyle Group,\\which has a reputation for making well-timed and occasionally\\controversial plays in the defense industry, has quietly placed\\its bets on another part of the market.\"\n",
            "\"3\",\"Oil and Economy Cloud Stocks' Outlook (Reuters)\",\"Reuters - Soaring crude prices plus worries\\about the economy and the outlook for earnings are expected to\\hang over the stock market next week during the depth of the\\summer doldrums.\"\n",
            "\"3\",\"Iraq Halts Oil Exports from Main Southern Pipeline (Reuters)\",\"Reuters - Authorities have halted oil export\\flows from the main pipeline in southern Iraq after\\intelligence showed a rebel militia could strike\\infrastructure, an oil official said on Saturday.\"\n",
            "\"3\",\"Oil prices soar to all-time record, posing new menace to US economy (AFP)\",\"AFP - Tearaway world oil prices, toppling records and straining wallets, present a new economic menace barely three months before the US presidential elections.\"\n",
            "\"3\",\"Stocks End Up, But Near Year Lows (Reuters)\",\"Reuters - Stocks ended slightly higher on Friday\\but stayed near lows for the year as oil prices surged past  #36;46\\a barrel, offsetting a positive outlook from computer maker\\Dell Inc. (DELL.O)\"\n",
            "\"3\",\"Money Funds Fell in Latest Week (AP)\",\"AP - Assets of the nation's retail money market mutual funds fell by  #36;1.17 billion in the latest week to  #36;849.98 trillion, the Investment Company Institute said Thursday.\"\n",
            "\"3\",\"Fed minutes show dissent over inflation (USATODAY.com)\",\"USATODAY.com - Retail sales bounced back a bit in July, and new claims for jobless benefits fell last week, the government said Thursday, indicating the economy is improving from a midsummer slump.\"\n",
            "\"3\",\"Safety Net (Forbes.com)\",\"Forbes.com - After earning a PH.D. in Sociology, Danny Bazil Riley started to work as the general manager at a commercial real estate firm at an annual base salary of  #36;70,000. Soon after, a financial planner stopped by his desk to drop off brochures about insurance benefits available through his employer. But, at 32, \"\"buying insurance was the furthest thing from my mind,\"\" says Riley.\"\n",
            "\"3\",\"Wall St. Bears Claw Back Into the Black\",\" NEW YORK (Reuters) - Short-sellers, Wall Street's dwindling  band of ultra-cynics, are seeing green again.\"\n"
          ]
        }
      ],
      "source": [
        "!head train.csv"
      ]
    },
    {
      "cell_type": "code",
      "execution_count": 9,
      "metadata": {
        "colab": {
          "base_uri": "https://localhost:8080/"
        },
        "id": "QbfciZAYHNBb",
        "outputId": "d228c449-fc2c-447e-bca2-f70b0ab73f37"
      },
      "outputs": [
        {
          "output_type": "stream",
          "name": "stdout",
          "text": [
            "\"3\",\"Fears for T N pension after talks\",\"Unions representing workers at Turner   Newall say they are 'disappointed' after talks with stricken parent firm Federal Mogul.\"\n",
            "\"4\",\"The Race is On: Second Private Team Sets Launch Date for Human Spaceflight (SPACE.com)\",\"SPACE.com - TORONTO, Canada -- A second\\team of rocketeers competing for the  #36;10 million Ansari X Prize, a contest for\\privately funded suborbital space flight, has officially announced the first\\launch date for its manned rocket.\"\n",
            "\"4\",\"Ky. Company Wins Grant to Study Peptides (AP)\",\"AP - A company founded by a chemistry researcher at the University of Louisville won a grant to develop a method of producing better peptides, which are short chains of amino acids, the building blocks of proteins.\"\n",
            "\"4\",\"Prediction Unit Helps Forecast Wildfires (AP)\",\"AP - It's barely dawn when Mike Fitzpatrick starts his shift with a blur of colorful maps, figures and endless charts, but already he knows what the day will bring. Lightning will strike in places he expects. Winds will pick up, moist places will dry and flames will roar.\"\n",
            "\"4\",\"Calif. Aims to Limit Farm-Related Smog (AP)\",\"AP - Southern California's smog-fighting agency went after emissions of the bovine variety Friday, adopting the nation's first rules to reduce air pollution from dairy cow manure.\"\n",
            "\"4\",\"Open Letter Against British Copyright Indoctrination in Schools\",\"The British Department for Education and Skills (DfES) recently launched a \"\"Music Manifesto\"\" campaign, with the ostensible intention of educating the next generation of British musicians. Unfortunately, they also teamed up with the music industry (EMI, and various artists) to make this popular. EMI has apparently negotiated their end well, so that children in our schools will now be indoctrinated about the illegality of downloading music.The ignorance and audacity of this got to me a little, so I wrote an open letter to the DfES about it. Unfortunately, it's pedantic, as I suppose you have to be when writing to goverment representatives. But I hope you find it useful, and perhaps feel inspired to do something similar, if or when the same thing has happened in your area.\"\n",
            "\"4\",\"Loosing the War on Terrorism\",\"\\\\\"\"Sven Jaschan, self-confessed author of the Netsky and Sasser viruses, is\\responsible for 70 percent of virus infections in 2004, according to a six-month\\virus roundup published Wednesday by antivirus company Sophos.\"\"\\\\\"\"The 18-year-old Jaschan was taken into custody in Germany in May by police who\\said he had admitted programming both the Netsky and Sasser worms, something\\experts at Microsoft confirmed. (A Microsoft antivirus reward program led to the\\teenager's arrest.) During the five months preceding Jaschan's capture, there\\were at least 25 variants of Netsky and one of the port-scanning network worm\\Sasser.\"\"\\\\\"\"Graham Cluley, senior technology consultant at Sophos, said it was staggeri ...\\\\\"\n",
            "\"4\",\"FOAFKey: FOAF, PGP, Key Distribution, and Bloom Filters\",\"\\\\FOAF/LOAF  and bloom filters have a lot of interesting properties for social\\network and whitelist distribution.\\\\I think we can go one level higher though and include GPG/OpenPGP key\\fingerpring distribution in the FOAF file for simple web-of-trust based key\\distribution.\\\\What if we used FOAF and included the PGP key fingerprint(s) for identities?\\This could mean a lot.  You include the PGP key fingerprints within the FOAF\\file of your direct friends and then include a bloom filter of the PGP key\\fingerprints of your entire whitelist (the source FOAF file would of course need\\to be encrypted ).\\\\Your whitelist would be populated from the social network as your client\\discovered new identit ...\\\\\"\n",
            "\"4\",\"E-mail scam targets police chief\",\"Wiltshire Police warns about \"\"phishing\"\" after its fraud squad chief was targeted.\"\n",
            "\"4\",\"Card fraud unit nets 36,000 cards\",\"In its first two years, the UK's dedicated card fraud unit, has recovered 36,000 stolen cards and 171 arrests - and estimates it saved 65m.\"\n"
          ]
        }
      ],
      "source": [
        "!head test.csv"
      ]
    },
    {
      "cell_type": "code",
      "execution_count": 10,
      "metadata": {
        "colab": {
          "base_uri": "https://localhost:8080/"
        },
        "id": "QHiCXhsTG835",
        "outputId": "ea4f3359-4bec-46cb-8a6b-d03d640e825b"
      },
      "outputs": [
        {
          "output_type": "stream",
          "name": "stdout",
          "text": [
            "120000 train.csv\n",
            "7600 test.csv\n"
          ]
        }
      ],
      "source": [
        "!wc -l train.csv\n",
        "!wc -l test.csv"
      ]
    },
    {
      "cell_type": "markdown",
      "metadata": {
        "id": "9YjyMnJOHoSY"
      },
      "source": [
        "## Загружаем данные в память"
      ]
    },
    {
      "cell_type": "markdown",
      "metadata": {
        "id": "C6Hs3NIKKqEB"
      },
      "source": [
        "Читаем данные из файла"
      ]
    },
    {
      "cell_type": "code",
      "execution_count": 11,
      "metadata": {
        "id": "viAteYU0HakW"
      },
      "outputs": [],
      "source": [
        "train = pd.read_csv('train.csv', \n",
        "                    header=None, \n",
        "                    names=['class', 'title', 'text'])"
      ]
    },
    {
      "cell_type": "code",
      "execution_count": 12,
      "metadata": {
        "colab": {
          "base_uri": "https://localhost:8080/",
          "height": 423
        },
        "id": "QTbvoCJxKpdr",
        "outputId": "360a3c4a-b995-4a77-e95c-3a91bf5bc2c2"
      },
      "outputs": [
        {
          "output_type": "execute_result",
          "data": {
            "text/plain": [
              "        class                                              title  \\\n",
              "0           3  Wall St. Bears Claw Back Into the Black (Reuters)   \n",
              "1           3  Carlyle Looks Toward Commercial Aerospace (Reu...   \n",
              "2           3    Oil and Economy Cloud Stocks' Outlook (Reuters)   \n",
              "3           3  Iraq Halts Oil Exports from Main Southern Pipe...   \n",
              "4           3  Oil prices soar to all-time record, posing new...   \n",
              "...       ...                                                ...   \n",
              "119995      1  Pakistan's Musharraf Says Won't Quit as Army C...   \n",
              "119996      2                  Renteria signing a top-shelf deal   \n",
              "119997      2                    Saban not going to Dolphins yet   \n",
              "119998      2                                  Today's NFL games   \n",
              "119999      2                       Nets get Carter from Raptors   \n",
              "\n",
              "                                                     text  \n",
              "0       Reuters - Short-sellers, Wall Street's dwindli...  \n",
              "1       Reuters - Private investment firm Carlyle Grou...  \n",
              "2       Reuters - Soaring crude prices plus worries\\ab...  \n",
              "3       Reuters - Authorities have halted oil export\\f...  \n",
              "4       AFP - Tearaway world oil prices, toppling reco...  \n",
              "...                                                   ...  \n",
              "119995   KARACHI (Reuters) - Pakistani President Perve...  \n",
              "119996  Red Sox general manager Theo Epstein acknowled...  \n",
              "119997  The Miami Dolphins will put their courtship of...  \n",
              "119998  PITTSBURGH at NY GIANTS Time: 1:30 p.m. Line: ...  \n",
              "119999  INDIANAPOLIS -- All-Star Vince Carter was trad...  \n",
              "\n",
              "[120000 rows x 3 columns]"
            ],
            "text/html": [
              "\n",
              "  <div id=\"df-89ec94e1-3375-4eb6-81fe-ebb48906d301\">\n",
              "    <div class=\"colab-df-container\">\n",
              "      <div>\n",
              "<style scoped>\n",
              "    .dataframe tbody tr th:only-of-type {\n",
              "        vertical-align: middle;\n",
              "    }\n",
              "\n",
              "    .dataframe tbody tr th {\n",
              "        vertical-align: top;\n",
              "    }\n",
              "\n",
              "    .dataframe thead th {\n",
              "        text-align: right;\n",
              "    }\n",
              "</style>\n",
              "<table border=\"1\" class=\"dataframe\">\n",
              "  <thead>\n",
              "    <tr style=\"text-align: right;\">\n",
              "      <th></th>\n",
              "      <th>class</th>\n",
              "      <th>title</th>\n",
              "      <th>text</th>\n",
              "    </tr>\n",
              "  </thead>\n",
              "  <tbody>\n",
              "    <tr>\n",
              "      <th>0</th>\n",
              "      <td>3</td>\n",
              "      <td>Wall St. Bears Claw Back Into the Black (Reuters)</td>\n",
              "      <td>Reuters - Short-sellers, Wall Street's dwindli...</td>\n",
              "    </tr>\n",
              "    <tr>\n",
              "      <th>1</th>\n",
              "      <td>3</td>\n",
              "      <td>Carlyle Looks Toward Commercial Aerospace (Reu...</td>\n",
              "      <td>Reuters - Private investment firm Carlyle Grou...</td>\n",
              "    </tr>\n",
              "    <tr>\n",
              "      <th>2</th>\n",
              "      <td>3</td>\n",
              "      <td>Oil and Economy Cloud Stocks' Outlook (Reuters)</td>\n",
              "      <td>Reuters - Soaring crude prices plus worries\\ab...</td>\n",
              "    </tr>\n",
              "    <tr>\n",
              "      <th>3</th>\n",
              "      <td>3</td>\n",
              "      <td>Iraq Halts Oil Exports from Main Southern Pipe...</td>\n",
              "      <td>Reuters - Authorities have halted oil export\\f...</td>\n",
              "    </tr>\n",
              "    <tr>\n",
              "      <th>4</th>\n",
              "      <td>3</td>\n",
              "      <td>Oil prices soar to all-time record, posing new...</td>\n",
              "      <td>AFP - Tearaway world oil prices, toppling reco...</td>\n",
              "    </tr>\n",
              "    <tr>\n",
              "      <th>...</th>\n",
              "      <td>...</td>\n",
              "      <td>...</td>\n",
              "      <td>...</td>\n",
              "    </tr>\n",
              "    <tr>\n",
              "      <th>119995</th>\n",
              "      <td>1</td>\n",
              "      <td>Pakistan's Musharraf Says Won't Quit as Army C...</td>\n",
              "      <td>KARACHI (Reuters) - Pakistani President Perve...</td>\n",
              "    </tr>\n",
              "    <tr>\n",
              "      <th>119996</th>\n",
              "      <td>2</td>\n",
              "      <td>Renteria signing a top-shelf deal</td>\n",
              "      <td>Red Sox general manager Theo Epstein acknowled...</td>\n",
              "    </tr>\n",
              "    <tr>\n",
              "      <th>119997</th>\n",
              "      <td>2</td>\n",
              "      <td>Saban not going to Dolphins yet</td>\n",
              "      <td>The Miami Dolphins will put their courtship of...</td>\n",
              "    </tr>\n",
              "    <tr>\n",
              "      <th>119998</th>\n",
              "      <td>2</td>\n",
              "      <td>Today's NFL games</td>\n",
              "      <td>PITTSBURGH at NY GIANTS Time: 1:30 p.m. Line: ...</td>\n",
              "    </tr>\n",
              "    <tr>\n",
              "      <th>119999</th>\n",
              "      <td>2</td>\n",
              "      <td>Nets get Carter from Raptors</td>\n",
              "      <td>INDIANAPOLIS -- All-Star Vince Carter was trad...</td>\n",
              "    </tr>\n",
              "  </tbody>\n",
              "</table>\n",
              "<p>120000 rows × 3 columns</p>\n",
              "</div>\n",
              "      <button class=\"colab-df-convert\" onclick=\"convertToInteractive('df-89ec94e1-3375-4eb6-81fe-ebb48906d301')\"\n",
              "              title=\"Convert this dataframe to an interactive table.\"\n",
              "              style=\"display:none;\">\n",
              "        \n",
              "  <svg xmlns=\"http://www.w3.org/2000/svg\" height=\"24px\"viewBox=\"0 0 24 24\"\n",
              "       width=\"24px\">\n",
              "    <path d=\"M0 0h24v24H0V0z\" fill=\"none\"/>\n",
              "    <path d=\"M18.56 5.44l.94 2.06.94-2.06 2.06-.94-2.06-.94-.94-2.06-.94 2.06-2.06.94zm-11 1L8.5 8.5l.94-2.06 2.06-.94-2.06-.94L8.5 2.5l-.94 2.06-2.06.94zm10 10l.94 2.06.94-2.06 2.06-.94-2.06-.94-.94-2.06-.94 2.06-2.06.94z\"/><path d=\"M17.41 7.96l-1.37-1.37c-.4-.4-.92-.59-1.43-.59-.52 0-1.04.2-1.43.59L10.3 9.45l-7.72 7.72c-.78.78-.78 2.05 0 2.83L4 21.41c.39.39.9.59 1.41.59.51 0 1.02-.2 1.41-.59l7.78-7.78 2.81-2.81c.8-.78.8-2.07 0-2.86zM5.41 20L4 18.59l7.72-7.72 1.47 1.35L5.41 20z\"/>\n",
              "  </svg>\n",
              "      </button>\n",
              "      \n",
              "  <style>\n",
              "    .colab-df-container {\n",
              "      display:flex;\n",
              "      flex-wrap:wrap;\n",
              "      gap: 12px;\n",
              "    }\n",
              "\n",
              "    .colab-df-convert {\n",
              "      background-color: #E8F0FE;\n",
              "      border: none;\n",
              "      border-radius: 50%;\n",
              "      cursor: pointer;\n",
              "      display: none;\n",
              "      fill: #1967D2;\n",
              "      height: 32px;\n",
              "      padding: 0 0 0 0;\n",
              "      width: 32px;\n",
              "    }\n",
              "\n",
              "    .colab-df-convert:hover {\n",
              "      background-color: #E2EBFA;\n",
              "      box-shadow: 0px 1px 2px rgba(60, 64, 67, 0.3), 0px 1px 3px 1px rgba(60, 64, 67, 0.15);\n",
              "      fill: #174EA6;\n",
              "    }\n",
              "\n",
              "    [theme=dark] .colab-df-convert {\n",
              "      background-color: #3B4455;\n",
              "      fill: #D2E3FC;\n",
              "    }\n",
              "\n",
              "    [theme=dark] .colab-df-convert:hover {\n",
              "      background-color: #434B5C;\n",
              "      box-shadow: 0px 1px 3px 1px rgba(0, 0, 0, 0.15);\n",
              "      filter: drop-shadow(0px 1px 2px rgba(0, 0, 0, 0.3));\n",
              "      fill: #FFFFFF;\n",
              "    }\n",
              "  </style>\n",
              "\n",
              "      <script>\n",
              "        const buttonEl =\n",
              "          document.querySelector('#df-89ec94e1-3375-4eb6-81fe-ebb48906d301 button.colab-df-convert');\n",
              "        buttonEl.style.display =\n",
              "          google.colab.kernel.accessAllowed ? 'block' : 'none';\n",
              "\n",
              "        async function convertToInteractive(key) {\n",
              "          const element = document.querySelector('#df-89ec94e1-3375-4eb6-81fe-ebb48906d301');\n",
              "          const dataTable =\n",
              "            await google.colab.kernel.invokeFunction('convertToInteractive',\n",
              "                                                     [key], {});\n",
              "          if (!dataTable) return;\n",
              "\n",
              "          const docLinkHtml = 'Like what you see? Visit the ' +\n",
              "            '<a target=\"_blank\" href=https://colab.research.google.com/notebooks/data_table.ipynb>data table notebook</a>'\n",
              "            + ' to learn more about interactive tables.';\n",
              "          element.innerHTML = '';\n",
              "          dataTable['output_type'] = 'display_data';\n",
              "          await google.colab.output.renderOutput(dataTable, element);\n",
              "          const docLink = document.createElement('div');\n",
              "          docLink.innerHTML = docLinkHtml;\n",
              "          element.appendChild(docLink);\n",
              "        }\n",
              "      </script>\n",
              "    </div>\n",
              "  </div>\n",
              "  "
            ]
          },
          "metadata": {},
          "execution_count": 12
        }
      ],
      "source": [
        "train"
      ]
    },
    {
      "cell_type": "markdown",
      "metadata": {
        "id": "gA0GvoWDKulp"
      },
      "source": [
        "Выделяем данные для обучения"
      ]
    },
    {
      "cell_type": "code",
      "execution_count": 13,
      "metadata": {
        "id": "xKdpzAQKLUsh"
      },
      "outputs": [],
      "source": [
        "news = train['text']"
      ]
    },
    {
      "cell_type": "code",
      "execution_count": 14,
      "metadata": {
        "colab": {
          "base_uri": "https://localhost:8080/"
        },
        "id": "3-13xctTLesU",
        "outputId": "596bba80-a4e4-426f-fb55-756e87b69bb0"
      },
      "outputs": [
        {
          "output_type": "execute_result",
          "data": {
            "text/plain": [
              "0    Reuters - Short-sellers, Wall Street's dwindli...\n",
              "1    Reuters - Private investment firm Carlyle Grou...\n",
              "2    Reuters - Soaring crude prices plus worries\\ab...\n",
              "3    Reuters - Authorities have halted oil export\\f...\n",
              "4    AFP - Tearaway world oil prices, toppling reco...\n",
              "Name: text, dtype: object"
            ]
          },
          "metadata": {},
          "execution_count": 14
        }
      ],
      "source": [
        "news[:5]"
      ]
    },
    {
      "cell_type": "markdown",
      "metadata": {
        "id": "EyruZkQeLnPa"
      },
      "source": [
        "Выделяем правильные ответы"
      ]
    },
    {
      "cell_type": "code",
      "execution_count": 15,
      "metadata": {
        "id": "5t_vJBSyIUoG"
      },
      "outputs": [],
      "source": [
        "y_train = utils.to_categorical(train['class'] - 1, nb_classes)"
      ]
    },
    {
      "cell_type": "code",
      "execution_count": 16,
      "metadata": {
        "colab": {
          "base_uri": "https://localhost:8080/"
        },
        "id": "gmEgMdF5IbZR",
        "outputId": "748b5321-bf0a-4ecb-f870-e0f519fda46c"
      },
      "outputs": [
        {
          "output_type": "execute_result",
          "data": {
            "text/plain": [
              "array([[0., 0., 1., 0.],\n",
              "       [0., 0., 1., 0.],\n",
              "       [0., 0., 1., 0.],\n",
              "       ...,\n",
              "       [0., 1., 0., 0.],\n",
              "       [0., 1., 0., 0.],\n",
              "       [0., 1., 0., 0.]], dtype=float32)"
            ]
          },
          "metadata": {},
          "execution_count": 16
        }
      ],
      "source": [
        "y_train"
      ]
    },
    {
      "cell_type": "markdown",
      "metadata": {
        "id": "vmNxV2KIE8Es"
      },
      "source": [
        "#Процесс предобработке данных\n",
        "\n",
        "1. **Изменение регистра:** Одна из простейших форм предварительной обработки текста — перевод всех символов текста в нижний регистр.\n",
        "2. **Токенизация:** Токенизация — процесс разбиения текстового документа на отдельные слова, которые называются токенами.\n",
        "3. **Удаление стоп-слов:**\n",
        "Стоп-слова — это часто используемые слова, которые не вносят никакой дополнительной информации в текст. Слова типа \"the\", \"is\", \"a\" не \n",
        "несут никакой ценности и только добавляют шум в данные.\n",
        "4. **Стеммизация:**\n",
        "Стеммизация — процесс приведения слова к его корню/основе.\n",
        "Он приводит различные вариации слова (например, \"help\", \"helping\", \"helped\", \"helpful\") к его начальной форме (например, \"help\"), удаляет все придатки слов (приставка, суффикс, окончание) и оставляет только основу слова.\n",
        "5. **Лемматизация:**\n",
        "Лемматизация похожа на стеммизацию в том, что она приводит слово к его начальной форме, но с одним отличием: в данном случае корень слова будет существующим в языке словом. Например, слово \"caring\" прекратится в \"care\", а не \"car\", как в стеммизаци."
      ]
    },
    {
      "cell_type": "markdown",
      "metadata": {
        "id": "7JuLOCqpLsNL"
      },
      "source": [
        "## Токенизация текста"
      ]
    },
    {
      "cell_type": "markdown",
      "metadata": {
        "id": "w_df1YHZEgy9"
      },
      "source": [
        "Токенизация (иногда – сегментация) по предложениям – это процесс разделения письменного языка на предложения-компоненты."
      ]
    },
    {
      "cell_type": "code",
      "execution_count": 17,
      "metadata": {
        "colab": {
          "base_uri": "https://localhost:8080/"
        },
        "id": "wwF89PAestv0",
        "outputId": "a3e46c4e-9bad-4c72-e6a1-4ba0eddc05f8"
      },
      "outputs": [
        {
          "output_type": "execute_result",
          "data": {
            "text/plain": [
              "0    Reuters - Short-sellers, Wall Street's dwindli...\n",
              "1    Reuters - Private investment firm Carlyle Grou...\n",
              "2    Reuters - Soaring crude prices plus worries\\ab...\n",
              "3    Reuters - Authorities have halted oil export\\f...\n",
              "4    AFP - Tearaway world oil prices, toppling reco...\n",
              "Name: text, dtype: object"
            ]
          },
          "metadata": {},
          "execution_count": 17
        }
      ],
      "source": [
        "news[:5]"
      ]
    },
    {
      "cell_type": "markdown",
      "metadata": {
        "id": "DTtBSvAfMusM"
      },
      "source": [
        "Создаем токенизатор Keras"
      ]
    },
    {
      "cell_type": "code",
      "execution_count": 18,
      "metadata": {
        "id": "x-AUMyjMLw5T"
      },
      "outputs": [],
      "source": [
        "tokenizer = Tokenizer(num_words=num_words)"
      ]
    },
    {
      "cell_type": "markdown",
      "metadata": {
        "id": "VIxY2pp-M2gw"
      },
      "source": [
        "Обучаем токенизатор на новостях"
      ]
    },
    {
      "cell_type": "code",
      "execution_count": 19,
      "metadata": {
        "id": "RfsqlGJZM7HR"
      },
      "outputs": [],
      "source": [
        "tokenizer.fit_on_texts(news)"
      ]
    },
    {
      "cell_type": "markdown",
      "metadata": {
        "id": "y6PqC28PND82"
      },
      "source": [
        "Просматриваем словарь токенизатора"
      ]
    },
    {
      "cell_type": "markdown",
      "metadata": {
        "id": "KHcDSv8WGDMt"
      },
      "source": [
        "#Векторизация текстовых данных (Text Data Vectorization):\n",
        "\n",
        "\n",
        "1. **«Мешок слов» (Bag of words (BOW)):**\n",
        "одна из самых простых методик векторизации текста. В логике BOW два предложения могут называться одинаковыми, если содержат один и тот же набор слов. BOW создает словарь уникальных d слов в корпусе (собрание всех токенов в данных). Например, корпус на изображении выше состоит из всех слов предложений S1 и S2\n",
        "2. **TF-IDF:**\n",
        "Это расшифровывается как Term Frequency (TF)-Inverse Document Frequency (IDF).*Частота слова (Term Frequency):*\n",
        "Term Frequency высчитывает вероятность найти какое-то слово в документе. Ну, например, мы хотим узнать, какова вероятрность найти слово wi в документе dj.*Обратная частота документа (Inverse Document Frequency):*В логике IDF, если слово встречается во всех документах, оно не очень полезно. Так определяется, насколько уникально слово во всем корпусе.\n",
        "\n"
      ]
    },
    {
      "cell_type": "code",
      "execution_count": 20,
      "metadata": {
        "colab": {
          "base_uri": "https://localhost:8080/"
        },
        "id": "8mWcH0mUMcMU",
        "outputId": "270ccdfc-e58b-4ac3-811b-dd217f30799c"
      },
      "outputs": [
        {
          "output_type": "execute_result",
          "data": {
            "text/plain": [
              "{'the': 1,\n",
              " 'a': 2,\n",
              " 'to': 3,\n",
              " 'of': 4,\n",
              " 'in': 5,\n",
              " 'and': 6,\n",
              " 'on': 7,\n",
              " 'for': 8,\n",
              " '39': 9,\n",
              " 's': 10,\n",
              " 'that': 11,\n",
              " 'with': 12,\n",
              " 'as': 13,\n",
              " 'its': 14,\n",
              " 'at': 15,\n",
              " 'said': 16,\n",
              " 'is': 17,\n",
              " 'by': 18,\n",
              " 'it': 19,\n",
              " 'has': 20,\n",
              " 'new': 21,\n",
              " 'an': 22,\n",
              " 'from': 23,\n",
              " 'reuters': 24,\n",
              " 'his': 25,\n",
              " 'will': 26,\n",
              " 'was': 27,\n",
              " 'after': 28,\n",
              " 'have': 29,\n",
              " 'be': 30,\n",
              " 'their': 31,\n",
              " 'two': 32,\n",
              " 'are': 33,\n",
              " 'us': 34,\n",
              " 'over': 35,\n",
              " 'quot': 36,\n",
              " 'year': 37,\n",
              " 'first': 38,\n",
              " 'ap': 39,\n",
              " 'he': 40,\n",
              " 'but': 41,\n",
              " 'gt': 42,\n",
              " 'lt': 43,\n",
              " 'this': 44,\n",
              " 'more': 45,\n",
              " 'monday': 46,\n",
              " 'wednesday': 47,\n",
              " 'one': 48,\n",
              " 'tuesday': 49,\n",
              " 'up': 50,\n",
              " 'thursday': 51,\n",
              " 'company': 52,\n",
              " 'inc': 53,\n",
              " 'friday': 54,\n",
              " 'world': 55,\n",
              " 'than': 56,\n",
              " 'u': 57,\n",
              " '1': 58,\n",
              " 'last': 59,\n",
              " 'they': 60,\n",
              " 'york': 61,\n",
              " 'yesterday': 62,\n",
              " 'against': 63,\n",
              " 'about': 64,\n",
              " 'who': 65,\n",
              " 'not': 66,\n",
              " 'were': 67,\n",
              " 'into': 68,\n",
              " 'out': 69,\n",
              " 'three': 70,\n",
              " 'been': 71,\n",
              " 'president': 72,\n",
              " '2': 73,\n",
              " 'had': 74,\n",
              " 'million': 75,\n",
              " 'corp': 76,\n",
              " 'oil': 77,\n",
              " 'when': 78,\n",
              " 'week': 79,\n",
              " 'time': 80,\n",
              " 'would': 81,\n",
              " 'united': 82,\n",
              " 'sunday': 83,\n",
              " 'which': 84,\n",
              " 'game': 85,\n",
              " 'people': 86,\n",
              " 'today': 87,\n",
              " 'government': 88,\n",
              " 'years': 89,\n",
              " 'could': 90,\n",
              " 'no': 91,\n",
              " 'second': 92,\n",
              " 'group': 93,\n",
              " 'percent': 94,\n",
              " 'n': 95,\n",
              " 'com': 96,\n",
              " 'saturday': 97,\n",
              " 'software': 98,\n",
              " 'next': 99,\n",
              " 'all': 100,\n",
              " 'third': 101,\n",
              " 'season': 102,\n",
              " 'night': 103,\n",
              " 'or': 104,\n",
              " 'prices': 105,\n",
              " 'iraq': 106,\n",
              " 'security': 107,\n",
              " 'day': 108,\n",
              " '3': 109,\n",
              " 'fullquote': 110,\n",
              " 'quarter': 111,\n",
              " 'off': 112,\n",
              " 'stocks': 113,\n",
              " '6': 114,\n",
              " 'microsoft': 115,\n",
              " 'minister': 116,\n",
              " 'announced': 117,\n",
              " 'internet': 118,\n",
              " 'team': 119,\n",
              " 'some': 120,\n",
              " 'four': 121,\n",
              " 'back': 122,\n",
              " 'state': 123,\n",
              " 'international': 124,\n",
              " 'high': 125,\n",
              " 'washington': 126,\n",
              " '2004': 127,\n",
              " 'billion': 128,\n",
              " 'may': 129,\n",
              " 'most': 130,\n",
              " 'market': 131,\n",
              " 'news': 132,\n",
              " 'former': 133,\n",
              " '10': 134,\n",
              " 'officials': 135,\n",
              " 'top': 136,\n",
              " 'can': 137,\n",
              " '4': 138,\n",
              " 'business': 139,\n",
              " 'says': 140,\n",
              " 'other': 141,\n",
              " 'win': 142,\n",
              " 'states': 143,\n",
              " 'if': 144,\n",
              " 'month': 145,\n",
              " '5': 146,\n",
              " 'victory': 147,\n",
              " 'city': 148,\n",
              " 'record': 149,\n",
              " 'end': 150,\n",
              " 'before': 151,\n",
              " 'european': 152,\n",
              " 'open': 153,\n",
              " 'largest': 154,\n",
              " 'technology': 155,\n",
              " 'just': 156,\n",
              " 'co': 157,\n",
              " 'service': 158,\n",
              " 'reported': 159,\n",
              " 't': 160,\n",
              " 'american': 161,\n",
              " 'league': 162,\n",
              " '7': 163,\n",
              " 'sales': 164,\n",
              " 'afp': 165,\n",
              " 'computer': 166,\n",
              " 'home': 167,\n",
              " 'down': 168,\n",
              " 'federal': 169,\n",
              " '000': 170,\n",
              " 'you': 171,\n",
              " 'five': 172,\n",
              " 'killed': 173,\n",
              " 'national': 174,\n",
              " 'according': 175,\n",
              " 'prime': 176,\n",
              " 'what': 177,\n",
              " 'expected': 178,\n",
              " 'made': 179,\n",
              " 'plans': 180,\n",
              " 'research': 181,\n",
              " 'while': 182,\n",
              " '0': 183,\n",
              " 'major': 184,\n",
              " 'ticker': 185,\n",
              " 'network': 186,\n",
              " 'target': 187,\n",
              " 'now': 188,\n",
              " 'during': 189,\n",
              " 'least': 190,\n",
              " 'court': 191,\n",
              " 'online': 192,\n",
              " 'country': 193,\n",
              " 'between': 194,\n",
              " 'chief': 195,\n",
              " 'maker': 196,\n",
              " 'http': 197,\n",
              " 'companies': 198,\n",
              " 'london': 199,\n",
              " 'under': 200,\n",
              " 'them': 201,\n",
              " 'long': 202,\n",
              " 'san': 203,\n",
              " 'www': 204,\n",
              " 'british': 205,\n",
              " 'china': 206,\n",
              " 'set': 207,\n",
              " 'lead': 208,\n",
              " 'cup': 209,\n",
              " 'deal': 210,\n",
              " 'bush': 211,\n",
              " 'final': 212,\n",
              " 'there': 213,\n",
              " 'series': 214,\n",
              " 'href': 215,\n",
              " 'another': 216,\n",
              " 'search': 217,\n",
              " 'make': 218,\n",
              " 'based': 219,\n",
              " 'south': 220,\n",
              " 'bank': 221,\n",
              " 'report': 222,\n",
              " 'since': 223,\n",
              " 'her': 224,\n",
              " 'take': 225,\n",
              " 'police': 226,\n",
              " 'won': 227,\n",
              " 'old': 228,\n",
              " 'investor': 229,\n",
              " 'space': 230,\n",
              " 'giant': 231,\n",
              " 'games': 232,\n",
              " 'coach': 233,\n",
              " 'help': 234,\n",
              " 'john': 235,\n",
              " 'being': 236,\n",
              " 'industry': 237,\n",
              " 'through': 238,\n",
              " 'sports': 239,\n",
              " 'left': 240,\n",
              " 'music': 241,\n",
              " 'shares': 242,\n",
              " 'election': 243,\n",
              " 'leader': 244,\n",
              " 'run': 245,\n",
              " 'him': 246,\n",
              " 'services': 247,\n",
              " 'way': 248,\n",
              " 'web': 249,\n",
              " 'agreed': 250,\n",
              " 'so': 251,\n",
              " 'say': 252,\n",
              " 'only': 253,\n",
              " 'iraqi': 254,\n",
              " 'red': 255,\n",
              " 'because': 256,\n",
              " 'hit': 257,\n",
              " 'early': 258,\n",
              " 'system': 259,\n",
              " 'mobile': 260,\n",
              " 'military': 261,\n",
              " 'six': 262,\n",
              " 'aspx': 263,\n",
              " 'quickinfo': 264,\n",
              " 'o': 265,\n",
              " 'months': 266,\n",
              " 'profit': 267,\n",
              " 'like': 268,\n",
              " 'baghdad': 269,\n",
              " 'general': 270,\n",
              " 'i': 271,\n",
              " 'days': 272,\n",
              " 'north': 273,\n",
              " 'al': 274,\n",
              " 'get': 275,\n",
              " 'rose': 276,\n",
              " 'p': 277,\n",
              " 'war': 278,\n",
              " 'including': 279,\n",
              " 'many': 280,\n",
              " 'union': 281,\n",
              " 'still': 282,\n",
              " 'biggest': 283,\n",
              " 'ago': 284,\n",
              " 'even': 285,\n",
              " 'executive': 286,\n",
              " 'half': 287,\n",
              " 'big': 288,\n",
              " 'talks': 289,\n",
              " 'strong': 290,\n",
              " '8': 291,\n",
              " 'official': 292,\n",
              " 'palestinian': 293,\n",
              " 'trade': 294,\n",
              " 'india': 295,\n",
              " 'plan': 296,\n",
              " 'wireless': 297,\n",
              " 'bid': 298,\n",
              " 'players': 299,\n",
              " 'data': 300,\n",
              " 'round': 301,\n",
              " 'latest': 302,\n",
              " 'phone': 303,\n",
              " 'held': 304,\n",
              " 'higher': 305,\n",
              " 'olympic': 306,\n",
              " 'much': 307,\n",
              " 'start': 308,\n",
              " 'released': 309,\n",
              " 'points': 310,\n",
              " 'stock': 311,\n",
              " 'growth': 312,\n",
              " 'move': 313,\n",
              " 'part': 314,\n",
              " 'nuclear': 315,\n",
              " 'athens': 316,\n",
              " 'earnings': 317,\n",
              " 'google': 318,\n",
              " 'test': 319,\n",
              " 'boston': 320,\n",
              " '11': 321,\n",
              " 'west': 322,\n",
              " '20': 323,\n",
              " 'how': 324,\n",
              " 'where': 325,\n",
              " 'fourth': 326,\n",
              " 'dollar': 327,\n",
              " 'called': 328,\n",
              " 'global': 329,\n",
              " 'head': 330,\n",
              " 'investors': 331,\n",
              " 'play': 332,\n",
              " 'australia': 333,\n",
              " 'public': 334,\n",
              " 'face': 335,\n",
              " 'weeks': 336,\n",
              " 'england': 337,\n",
              " 'israeli': 338,\n",
              " 'users': 339,\n",
              " 'presidential': 340,\n",
              " 'nearly': 341,\n",
              " 'seven': 342,\n",
              " 'economic': 343,\n",
              " 'football': 344,\n",
              " 'found': 345,\n",
              " 'windows': 346,\n",
              " 'japan': 347,\n",
              " 'air': 348,\n",
              " 'nations': 349,\n",
              " 'financial': 350,\n",
              " 'despite': 351,\n",
              " 'ahead': 352,\n",
              " 'francisco': 353,\n",
              " 'cut': 354,\n",
              " 'ibm': 355,\n",
              " 'man': 356,\n",
              " 'free': 357,\n",
              " 'gold': 358,\n",
              " 'took': 359,\n",
              " 'championship': 360,\n",
              " 'around': 361,\n",
              " 'amp': 362,\n",
              " 'foreign': 363,\n",
              " 'fell': 364,\n",
              " 'systems': 365,\n",
              " 'go': 366,\n",
              " '12': 367,\n",
              " 'also': 368,\n",
              " '9': 369,\n",
              " 'street': 370,\n",
              " 'firm': 371,\n",
              " 'russian': 372,\n",
              " 'number': 373,\n",
              " 'should': 374,\n",
              " 'near': 375,\n",
              " 'loss': 376,\n",
              " 'any': 377,\n",
              " 'leading': 378,\n",
              " 'used': 379,\n",
              " 'right': 380,\n",
              " 'forces': 381,\n",
              " 'past': 382,\n",
              " 'reports': 383,\n",
              " 'use': 384,\n",
              " 'following': 385,\n",
              " 'do': 386,\n",
              " 'buy': 387,\n",
              " 'troops': 388,\n",
              " '30': 389,\n",
              " 'quote': 390,\n",
              " 'work': 391,\n",
              " 'key': 392,\n",
              " 'attack': 393,\n",
              " 'sox': 394,\n",
              " 'pay': 395,\n",
              " 'drug': 396,\n",
              " 'economy': 397,\n",
              " 'chicago': 398,\n",
              " 'release': 399,\n",
              " 'agency': 400,\n",
              " 'led': 401,\n",
              " '36': 402,\n",
              " 'share': 403,\n",
              " 'car': 404,\n",
              " 'both': 405,\n",
              " '15': 406,\n",
              " 'per': 407,\n",
              " 'profile': 408,\n",
              " 'version': 409,\n",
              " 'october': 410,\n",
              " 'september': 411,\n",
              " 'press': 412,\n",
              " 'late': 413,\n",
              " 'commission': 414,\n",
              " 'gaza': 415,\n",
              " 'beat': 416,\n",
              " 'video': 417,\n",
              " 'media': 418,\n",
              " 'killing': 419,\n",
              " 'your': 420,\n",
              " '2005': 421,\n",
              " 'price': 422,\n",
              " 'player': 423,\n",
              " 'best': 424,\n",
              " 'rival': 425,\n",
              " 'put': 426,\n",
              " 'several': 427,\n",
              " 'uk': 428,\n",
              " 'apple': 429,\n",
              " 'america': 430,\n",
              " 'well': 431,\n",
              " 'again': 432,\n",
              " 'wall': 433,\n",
              " 'power': 434,\n",
              " 'capital': 435,\n",
              " 'products': 436,\n",
              " 'here': 437,\n",
              " 'tokyo': 438,\n",
              " 'source': 439,\n",
              " 'contract': 440,\n",
              " 'offer': 441,\n",
              " 'close': 442,\n",
              " 'e': 443,\n",
              " 'agreement': 444,\n",
              " 'region': 445,\n",
              " 'such': 446,\n",
              " 'australian': 447,\n",
              " 'recent': 448,\n",
              " 'workers': 449,\n",
              " 'french': 450,\n",
              " 'support': 451,\n",
              " 'might': 452,\n",
              " 'making': 453,\n",
              " 'program': 454,\n",
              " 'conference': 455,\n",
              " 'demand': 456,\n",
              " 'leaders': 457,\n",
              " 'scientists': 458,\n",
              " 'whether': 459,\n",
              " '17': 460,\n",
              " 'title': 461,\n",
              " 'customers': 462,\n",
              " 'crude': 463,\n",
              " 'digital': 464,\n",
              " 'attacks': 465,\n",
              " 'scored': 466,\n",
              " 'un': 467,\n",
              " 'champion': 468,\n",
              " 'jobs': 469,\n",
              " 'b': 470,\n",
              " '14': 471,\n",
              " '18': 472,\n",
              " 'consumer': 473,\n",
              " 'manager': 474,\n",
              " 'lower': 475,\n",
              " 'department': 476,\n",
              " 'party': 477,\n",
              " 'michael': 478,\n",
              " 'nation': 479,\n",
              " 'eight': 480,\n",
              " 'house': 481,\n",
              " 'she': 482,\n",
              " 'saying': 483,\n",
              " 'northern': 484,\n",
              " 'energy': 485,\n",
              " 'japanese': 486,\n",
              " 'life': 487,\n",
              " 'europe': 488,\n",
              " 'center': 489,\n",
              " 'line': 490,\n",
              " 'los': 491,\n",
              " 'november': 492,\n",
              " 'southern': 493,\n",
              " 'running': 494,\n",
              " 'st': 495,\n",
              " 'told': 496,\n",
              " 'low': 497,\n",
              " 'champions': 498,\n",
              " 'little': 499,\n",
              " 'political': 500,\n",
              " 'without': 501,\n",
              " 'meeting': 502,\n",
              " 'management': 503,\n",
              " 'peace': 504,\n",
              " 'field': 505,\n",
              " 'due': 506,\n",
              " 'campaign': 507,\n",
              " 'hurricane': 508,\n",
              " 'decision': 509,\n",
              " 'away': 510,\n",
              " 'place': 511,\n",
              " 'taking': 512,\n",
              " 'launched': 513,\n",
              " 'central': 514,\n",
              " 'angeles': 515,\n",
              " 'russia': 516,\n",
              " 'good': 517,\n",
              " 'canadian': 518,\n",
              " 'winning': 519,\n",
              " 'oracle': 520,\n",
              " 'results': 521,\n",
              " 'florida': 522,\n",
              " 'race': 523,\n",
              " '13': 524,\n",
              " 'university': 525,\n",
              " 'across': 526,\n",
              " 'school': 527,\n",
              " 'office': 528,\n",
              " 'using': 529,\n",
              " 'intel': 530,\n",
              " 'interest': 531,\n",
              " '16': 532,\n",
              " 'star': 533,\n",
              " '25': 534,\n",
              " 'board': 535,\n",
              " 'pakistan': 536,\n",
              " 'give': 537,\n",
              " 'become': 538,\n",
              " 'we': 539,\n",
              " \"world's\": 540,\n",
              " 'net': 541,\n",
              " 'men': 542,\n",
              " 'straight': 543,\n",
              " 'army': 544,\n",
              " 'future': 545,\n",
              " 'morning': 546,\n",
              " 'secretary': 547,\n",
              " 'chairman': 548,\n",
              " 'defense': 549,\n",
              " 'information': 550,\n",
              " 'california': 551,\n",
              " '50': 552,\n",
              " '100': 553,\n",
              " 'match': 554,\n",
              " 'bomb': 555,\n",
              " 'site': 556,\n",
              " 'shot': 557,\n",
              " 'weekend': 558,\n",
              " 'quarterly': 559,\n",
              " 'costs': 560,\n",
              " 'launch': 561,\n",
              " 'lost': 562,\n",
              " 'charges': 563,\n",
              " 'communications': 564,\n",
              " 'linux': 565,\n",
              " 'case': 566,\n",
              " 'elections': 567,\n",
              " 'history': 568,\n",
              " 'houston': 569,\n",
              " 'keep': 570,\n",
              " 'operating': 571,\n",
              " 'oct': 572,\n",
              " 'showed': 573,\n",
              " 'health': 574,\n",
              " 'return': 575,\n",
              " 'better': 576,\n",
              " 'sun': 577,\n",
              " 'own': 578,\n",
              " 'did': 579,\n",
              " 'club': 580,\n",
              " 'same': 581,\n",
              " 'times': 582,\n",
              " 'warned': 583,\n",
              " 'among': 584,\n",
              " 'few': 585,\n",
              " 'posted': 586,\n",
              " 'signed': 587,\n",
              " 'increase': 588,\n",
              " 'death': 589,\n",
              " 'cost': 590,\n",
              " 'senior': 591,\n",
              " 'show': 592,\n",
              " 'france': 593,\n",
              " 'job': 594,\n",
              " 'mark': 595,\n",
              " 'television': 596,\n",
              " 'trading': 597,\n",
              " 'money': 598,\n",
              " 'stores': 599,\n",
              " 'bill': 600,\n",
              " 'those': 601,\n",
              " '24': 602,\n",
              " 'peoplesoft': 603,\n",
              " 'earlier': 604,\n",
              " 'almost': 605,\n",
              " 'grand': 606,\n",
              " 'militants': 607,\n",
              " 'exchange': 608,\n",
              " 'pc': 609,\n",
              " 'ever': 610,\n",
              " 'yankees': 611,\n",
              " 'come': 612,\n",
              " 'force': 613,\n",
              " 'small': 614,\n",
              " 'david': 615,\n",
              " 'east': 616,\n",
              " 'rise': 617,\n",
              " 'stadium': 618,\n",
              " 'font': 619,\n",
              " 'mail': 620,\n",
              " 'less': 621,\n",
              " 'chip': 622,\n",
              " 'accused': 623,\n",
              " '19': 624,\n",
              " 'nasa': 625,\n",
              " 'began': 626,\n",
              " 'nine': 627,\n",
              " 'ltd': 628,\n",
              " 'fans': 629,\n",
              " 'action': 630,\n",
              " 'iran': 631,\n",
              " 'going': 632,\n",
              " 'toronto': 633,\n",
              " 'likely': 634,\n",
              " 'nov': 635,\n",
              " 'texas': 636,\n",
              " 'reserve': 637,\n",
              " 'association': 638,\n",
              " 'baseball': 639,\n",
              " 'came': 640,\n",
              " 'thousands': 641,\n",
              " 'behind': 642,\n",
              " 'ended': 643,\n",
              " 'helped': 644,\n",
              " 'real': 645,\n",
              " 'barrel': 646,\n",
              " 'anti': 647,\n",
              " 'opening': 648,\n",
              " 'offering': 649,\n",
              " 'israel': 650,\n",
              " 'got': 651,\n",
              " 'full': 652,\n",
              " 'battle': 653,\n",
              " 'britain': 654,\n",
              " 'post': 655,\n",
              " 'possible': 656,\n",
              " '21': 657,\n",
              " 'control': 658,\n",
              " 'amid': 659,\n",
              " 'died': 660,\n",
              " 'sell': 661,\n",
              " 'rate': 662,\n",
              " 'trial': 663,\n",
              " 'growing': 664,\n",
              " 'm': 665,\n",
              " 'division': 666,\n",
              " 'too': 667,\n",
              " 'august': 668,\n",
              " 'cash': 669,\n",
              " 'judge': 670,\n",
              " 'already': 671,\n",
              " 'point': 672,\n",
              " 'korea': 673,\n",
              " 'darfur': 674,\n",
              " 'access': 675,\n",
              " 'yet': 676,\n",
              " 'paris': 677,\n",
              " 'medal': 678,\n",
              " 'term': 679,\n",
              " 'food': 680,\n",
              " 'tax': 681,\n",
              " 'performance': 682,\n",
              " 'members': 683,\n",
              " 'hopes': 684,\n",
              " 'hours': 685,\n",
              " 'kerry': 686,\n",
              " 'bankruptcy': 687,\n",
              " 'countries': 688,\n",
              " 'far': 689,\n",
              " 'white': 690,\n",
              " 'once': 691,\n",
              " 'women': 692,\n",
              " 'administration': 693,\n",
              " 'sept': 694,\n",
              " 'revenue': 695,\n",
              " 'career': 696,\n",
              " 'fall': 697,\n",
              " '151': 698,\n",
              " 'injured': 699,\n",
              " 'rates': 700,\n",
              " 'networks': 701,\n",
              " 'trying': 702,\n",
              " 'western': 703,\n",
              " 'production': 704,\n",
              " 'gave': 705,\n",
              " 'store': 706,\n",
              " 'study': 707,\n",
              " 'efforts': 708,\n",
              " 'airlines': 709,\n",
              " 'chinese': 710,\n",
              " 'within': 711,\n",
              " 'see': 712,\n",
              " 'authorities': 713,\n",
              " 'soon': 714,\n",
              " 'violence': 715,\n",
              " 'yards': 716,\n",
              " 'williams': 717,\n",
              " 'product': 718,\n",
              " 'computers': 719,\n",
              " 'german': 720,\n",
              " 'corporate': 721,\n",
              " 'hard': 722,\n",
              " 'look': 723,\n",
              " 'germany': 724,\n",
              " 'soldiers': 725,\n",
              " 'local': 726,\n",
              " 'george': 727,\n",
              " 'speed': 728,\n",
              " 'human': 729,\n",
              " 'radio': 730,\n",
              " 'server': 731,\n",
              " 'hostage': 732,\n",
              " 'takeover': 733,\n",
              " 'step': 734,\n",
              " 'canada': 735,\n",
              " 'change': 736,\n",
              " 'main': 737,\n",
              " 'starting': 738,\n",
              " 'popular': 739,\n",
              " 'opposition': 740,\n",
              " 'personal': 741,\n",
              " 'outside': 742,\n",
              " 'competition': 743,\n",
              " 'paul': 744,\n",
              " 'aimed': 745,\n",
              " 'each': 746,\n",
              " 'quarterback': 747,\n",
              " 'markets': 748,\n",
              " 'fund': 749,\n",
              " 'reached': 750,\n",
              " 'investment': 751,\n",
              " 'african': 752,\n",
              " 'fire': 753,\n",
              " 'size': 754,\n",
              " 'law': 755,\n",
              " 'until': 756,\n",
              " 'arafat': 757,\n",
              " 'short': 758,\n",
              " 'concerns': 759,\n",
              " 'strike': 760,\n",
              " 'engine': 761,\n",
              " 'known': 762,\n",
              " 'continued': 763,\n",
              " 'phones': 764,\n",
              " 'failed': 765,\n",
              " 'jones': 766,\n",
              " 'vote': 767,\n",
              " 'enough': 768,\n",
              " 'devices': 769,\n",
              " 'giants': 770,\n",
              " 'yasser': 771,\n",
              " 'retailer': 772,\n",
              " 'gas': 773,\n",
              " 'afghanistan': 774,\n",
              " 'then': 775,\n",
              " 'analysts': 776,\n",
              " 'taken': 777,\n",
              " 'begin': 778,\n",
              " 'others': 779,\n",
              " 'development': 780,\n",
              " 'tour': 781,\n",
              " 'profits': 782,\n",
              " 'looking': 783,\n",
              " 'dead': 784,\n",
              " 'manchester': 785,\n",
              " 'filed': 786,\n",
              " 'weapons': 787,\n",
              " 'tech': 788,\n",
              " 'fight': 789,\n",
              " 'airline': 790,\n",
              " 'insurance': 791,\n",
              " 'selling': 792,\n",
              " 'stop': 793,\n",
              " 'reach': 794,\n",
              " 'council': 795,\n",
              " 'designed': 796,\n",
              " 'unit': 797,\n",
              " 'miami': 798,\n",
              " 'raised': 799,\n",
              " 'seattle': 800,\n",
              " 'desktop': 801,\n",
              " 'large': 802,\n",
              " 'teams': 803,\n",
              " 'sony': 804,\n",
              " 'cell': 805,\n",
              " 'americans': 806,\n",
              " 'bay': 807,\n",
              " 'beijing': 808,\n",
              " 'side': 809,\n",
              " 're': 810,\n",
              " 'electronics': 811,\n",
              " 'executives': 812,\n",
              " 'meet': 813,\n",
              " 'indian': 814,\n",
              " 'great': 815,\n",
              " 'olympics': 816,\n",
              " 'find': 817,\n",
              " '500': 818,\n",
              " \"it's\": 819,\n",
              " 'went': 820,\n",
              " 'legal': 821,\n",
              " 'must': 822,\n",
              " 'effort': 823,\n",
              " 'hold': 824,\n",
              " 'rebel': 825,\n",
              " 'operations': 826,\n",
              " 'fuel': 827,\n",
              " 'further': 828,\n",
              " 'finally': 829,\n",
              " 'cp': 830,\n",
              " 'green': 831,\n",
              " 'fighting': 832,\n",
              " 'tony': 833,\n",
              " 'powerful': 834,\n",
              " 'coming': 835,\n",
              " 'consumers': 836,\n",
              " 'researchers': 837,\n",
              " 'working': 838,\n",
              " 'level': 839,\n",
              " 'spending': 840,\n",
              " 'file': 841,\n",
              " 'coast': 842,\n",
              " 'call': 843,\n",
              " 'moscow': 844,\n",
              " 'need': 845,\n",
              " 'rights': 846,\n",
              " 'area': 847,\n",
              " 'toward': 848,\n",
              " 'fired': 849,\n",
              " 'madrid': 850,\n",
              " 'claims': 851,\n",
              " 'atlanta': 852,\n",
              " 'family': 853,\n",
              " 'annual': 854,\n",
              " 'forecast': 855,\n",
              " 'getting': 856,\n",
              " 'securities': 857,\n",
              " 'continue': 858,\n",
              " 'businesses': 859,\n",
              " '23': 860,\n",
              " 'allow': 861,\n",
              " 'rally': 862,\n",
              " 'private': 863,\n",
              " 'never': 864,\n",
              " 'euro': 865,\n",
              " 'arrested': 866,\n",
              " 'station': 867,\n",
              " 'goal': 868,\n",
              " 'tv': 869,\n",
              " 'list': 870,\n",
              " 'bowl': 871,\n",
              " 'blue': 872,\n",
              " \"'s\": 873,\n",
              " 'heart': 874,\n",
              " 'yahoo': 875,\n",
              " 'every': 876,\n",
              " 'labor': 877,\n",
              " 'provide': 878,\n",
              " 'cbs': 879,\n",
              " 'pressure': 880,\n",
              " 'rebels': 881,\n",
              " 'democratic': 882,\n",
              " 'africa': 883,\n",
              " '27': 884,\n",
              " 'visit': 885,\n",
              " 'planned': 886,\n",
              " 'children': 887,\n",
              " 'calif': 888,\n",
              " 'italian': 889,\n",
              " 'holiday': 890,\n",
              " 'investigation': 891,\n",
              " 'basketball': 892,\n",
              " 'drop': 893,\n",
              " 'drive': 894,\n",
              " 'name': 895,\n",
              " 'sent': 896,\n",
              " 'spain': 897,\n",
              " 'available': 898,\n",
              " 'boost': 899,\n",
              " 'hundreds': 900,\n",
              " 'survey': 901,\n",
              " '28': 902,\n",
              " 'current': 903,\n",
              " 'charged': 904,\n",
              " 'regulators': 905,\n",
              " 'attempt': 906,\n",
              " 'named': 907,\n",
              " 'dollars': 908,\n",
              " 'officer': 909,\n",
              " 'expectations': 910,\n",
              " 'policy': 911,\n",
              " 'muslim': 912,\n",
              " 'rising': 913,\n",
              " '22': 914,\n",
              " 'college': 915,\n",
              " 'problems': 916,\n",
              " 'sudan': 917,\n",
              " 'asked': 918,\n",
              " 'suspected': 919,\n",
              " 'approved': 920,\n",
              " 'ipod': 921,\n",
              " 'sold': 922,\n",
              " 'nasdaq': 923,\n",
              " 'detroit': 924,\n",
              " 'december': 925,\n",
              " 'gains': 926,\n",
              " 'decided': 927,\n",
              " 'aid': 928,\n",
              " 'supply': 929,\n",
              " 'ceo': 930,\n",
              " 'park': 931,\n",
              " 'employees': 932,\n",
              " 'philadelphia': 933,\n",
              " 'retail': 934,\n",
              " 'nfl': 935,\n",
              " 'flight': 936,\n",
              " 'unveiled': 937,\n",
              " 'worth': 938,\n",
              " 'islamic': 939,\n",
              " 'confirmed': 940,\n",
              " 'tournament': 941,\n",
              " 'arsenal': 942,\n",
              " 'turned': 943,\n",
              " 'seen': 944,\n",
              " 'rivals': 945,\n",
              " 'sale': 946,\n",
              " 'eu': 947,\n",
              " 'equipment': 948,\n",
              " 'louis': 949,\n",
              " 'injury': 950,\n",
              " 'strip': 951,\n",
              " 'order': 952,\n",
              " 'claimed': 953,\n",
              " 'sign': 954,\n",
              " 'holding': 955,\n",
              " 'ruling': 956,\n",
              " 'later': 957,\n",
              " 'technologies': 958,\n",
              " 'town': 959,\n",
              " 'winter': 960,\n",
              " 'increased': 961,\n",
              " 'try': 962,\n",
              " 'terrorism': 963,\n",
              " 'giving': 964,\n",
              " 'color': 965,\n",
              " 'staff': 966,\n",
              " 'moved': 967,\n",
              " 'spokesman': 968,\n",
              " 'stake': 969,\n",
              " 'want': 970,\n",
              " 'guard': 971,\n",
              " 'fresh': 972,\n",
              " 'though': 973,\n",
              " '40': 974,\n",
              " 'opened': 975,\n",
              " 'mike': 976,\n",
              " 'fifth': 977,\n",
              " 'generation': 978,\n",
              " 'above': 979,\n",
              " 'cent': 980,\n",
              " 'average': 981,\n",
              " 'w': 982,\n",
              " 'received': 983,\n",
              " 'threat': 984,\n",
              " 'inning': 985,\n",
              " 'chance': 986,\n",
              " 'double': 987,\n",
              " 'hospital': 988,\n",
              " 'touchdown': 989,\n",
              " 'added': 990,\n",
              " 'ranked': 991,\n",
              " 'steve': 992,\n",
              " '2006': 993,\n",
              " 'crisis': 994,\n",
              " 'process': 995,\n",
              " 'applications': 996,\n",
              " 'captain': 997,\n",
              " '2003': 998,\n",
              " 'suicide': 999,\n",
              " 'black': 1000,\n",
              " ...}"
            ]
          },
          "metadata": {},
          "execution_count": 20
        }
      ],
      "source": [
        "tokenizer.word_index"
      ]
    },
    {
      "cell_type": "markdown",
      "metadata": {
        "id": "s_nyPsVLNW-f"
      },
      "source": [
        "Преобразуем новости в числовое представление"
      ]
    },
    {
      "cell_type": "code",
      "execution_count": 21,
      "metadata": {
        "id": "bMZ6e-zEJHr1"
      },
      "outputs": [],
      "source": [
        "sequences = tokenizer.texts_to_sequences(news)"
      ]
    },
    {
      "cell_type": "markdown",
      "metadata": {
        "id": "aZ_NJ2SlNwMI"
      },
      "source": [
        "Просматриваем новости в числовом представлении"
      ]
    },
    {
      "cell_type": "code",
      "execution_count": 22,
      "metadata": {
        "colab": {
          "base_uri": "https://localhost:8080/"
        },
        "id": "xIUJvjguN0S0",
        "outputId": "21290849-3c79-4106-b59d-a3ba31dd3e21"
      },
      "outputs": [
        {
          "output_type": "stream",
          "name": "stdout",
          "text": [
            "Reuters - Private investment firm Carlyle Group,\\which has a reputation for making well-timed and occasionally\\controversial plays in the defense industry, has quietly placed\\its bets on another part of the market.\n",
            "[24, 863, 751, 371, 93, 84, 20, 2, 3916, 8, 453, 431, 6, 1308, 2799, 5, 1, 549, 237, 20, 3528, 2002, 14, 8267, 7, 216, 314, 4, 1, 131]\n"
          ]
        }
      ],
      "source": [
        "index = 1\n",
        "print(news[index])\n",
        "print(sequences[index])"
      ]
    },
    {
      "cell_type": "code",
      "execution_count": 23,
      "metadata": {
        "colab": {
          "base_uri": "https://localhost:8080/"
        },
        "id": "sQn0O5kBtmyJ",
        "outputId": "4bf53862-e178-4621-b014-8b04e98e82c6"
      },
      "outputs": [
        {
          "output_type": "execute_result",
          "data": {
            "text/plain": [
              "751"
            ]
          },
          "metadata": {},
          "execution_count": 23
        }
      ],
      "source": [
        "tokenizer.word_index['investment']"
      ]
    },
    {
      "cell_type": "markdown",
      "metadata": {
        "id": "neSZfrw3OYPx"
      },
      "source": [
        "Ограничиваем длину отзывов"
      ]
    },
    {
      "cell_type": "code",
      "execution_count": 24,
      "metadata": {
        "id": "ZGLpcETkN3ex"
      },
      "outputs": [],
      "source": [
        "x_train = pad_sequences(sequences, maxlen=max_news_len)"
      ]
    },
    {
      "cell_type": "code",
      "execution_count": 25,
      "metadata": {
        "colab": {
          "base_uri": "https://localhost:8080/"
        },
        "id": "mPW1VACmOrrm",
        "outputId": "5a71000e-06be-447d-b5d8-e7940cebfd23"
      },
      "outputs": [
        {
          "output_type": "execute_result",
          "data": {
            "text/plain": [
              "array([[   0,    0,    0,    0,    0,    0,    0,    0,    0,    0,    0,\n",
              "           0,    0,    0,    0,    0,    0,    0,   24,  758, 7851,  433,\n",
              "        5786, 2861,    4, 5916,   33, 3642,  831,  432],\n",
              "       [  24,  863,  751,  371,   93,   84,   20,    2, 3916,    8,  453,\n",
              "         431,    6, 1308, 2799,    5,    1,  549,  237,   20, 3528, 2002,\n",
              "          14, 8267,    7,  216,  314,    4,    1,  131],\n",
              "       [  24, 2199,  463,  105, 1568, 1484,   64,    1,  397,    6,    1,\n",
              "        1026,    8,  317,   33,  178,    3, 6377,   35,    1,  311,  131,\n",
              "          99,   79,  189,    1, 6120,    4,    1, 1068],\n",
              "       [   0,   24,  713,   29, 5142,   77, 3549, 7993,   23,    1,  737,\n",
              "        3199,    5,  493,  106,   28, 1402,  573,    2,  825, 2601,   90,\n",
              "         760, 2559,   22,   77,  292,   16,    7,   97],\n",
              "       [   0,    0,    0,    0,    0,    0,    0,    0,    0,    0,  165,\n",
              "          55,   77,  105, 8851, 1776,    6, 8268, 3454,    2,   21,  343,\n",
              "        3036,   70,  266,  151,    1,   34,  340,  567]], dtype=int32)"
            ]
          },
          "metadata": {},
          "execution_count": 25
        }
      ],
      "source": [
        "x_train[:5]"
      ]
    },
    {
      "cell_type": "markdown",
      "metadata": {
        "id": "ypBYfEwvO0c4"
      },
      "source": [
        "## Сверточная нейронная сеть"
      ]
    },
    {
      "cell_type": "code",
      "execution_count": 26,
      "metadata": {
        "id": "8ETORhRkOtIn"
      },
      "outputs": [],
      "source": [
        "model_cnn = Sequential()\n",
        "model_cnn.add(Embedding(num_words, 32, input_length=max_news_len))\n",
        "model_cnn.add(Conv1D(250, 5, padding='valid', activation='relu'))\n",
        "model_cnn.add(GlobalMaxPooling1D())\n",
        "model_cnn.add(Dense(128, activation='relu'))\n",
        "model_cnn.add(Dense(4, activation='softmax'))"
      ]
    },
    {
      "cell_type": "code",
      "execution_count": 27,
      "metadata": {
        "id": "rzds0iUgPLwS"
      },
      "outputs": [],
      "source": [
        "model_cnn.compile(optimizer='adam', \n",
        "              loss='categorical_crossentropy', \n",
        "              metrics=['accuracy'])"
      ]
    },
    {
      "cell_type": "code",
      "execution_count": 28,
      "metadata": {
        "colab": {
          "base_uri": "https://localhost:8080/"
        },
        "id": "wpVCjslL4En2",
        "outputId": "cf6f05ca-6922-488a-a002-0d89d0361dd1"
      },
      "outputs": [
        {
          "output_type": "stream",
          "name": "stdout",
          "text": [
            "Model: \"sequential\"\n",
            "_________________________________________________________________\n",
            " Layer (type)                Output Shape              Param #   \n",
            "=================================================================\n",
            " embedding (Embedding)       (None, 30, 32)            320000    \n",
            "                                                                 \n",
            " conv1d (Conv1D)             (None, 26, 250)           40250     \n",
            "                                                                 \n",
            " global_max_pooling1d (Globa  (None, 250)              0         \n",
            " lMaxPooling1D)                                                  \n",
            "                                                                 \n",
            " dense (Dense)               (None, 128)               32128     \n",
            "                                                                 \n",
            " dense_1 (Dense)             (None, 4)                 516       \n",
            "                                                                 \n",
            "=================================================================\n",
            "Total params: 392,894\n",
            "Trainable params: 392,894\n",
            "Non-trainable params: 0\n",
            "_________________________________________________________________\n"
          ]
        }
      ],
      "source": [
        "model_cnn.summary()"
      ]
    },
    {
      "cell_type": "markdown",
      "metadata": {
        "id": "GYw-jNpW9-40"
      },
      "source": [
        "Создаем callback для сохранения нейронной сети на каждой эпохе, если качество работы на проверочном наборе данных улучшилось. Сеть сохраняется в файл `best_model.h5`"
      ]
    },
    {
      "cell_type": "code",
      "execution_count": 29,
      "metadata": {
        "id": "inD4DaNdWgpL"
      },
      "outputs": [],
      "source": [
        "model_cnn_save_path = 'best_model_cnn.h5'\n",
        "checkpoint_callback_cnn = ModelCheckpoint(model_cnn_save_path, \n",
        "                                      monitor='val_accuracy',\n",
        "                                      save_best_only=True,\n",
        "                                      verbose=1)"
      ]
    },
    {
      "cell_type": "code",
      "execution_count": 30,
      "metadata": {
        "colab": {
          "base_uri": "https://localhost:8080/"
        },
        "id": "3RjBsU8_PSqp",
        "outputId": "100e6b1e-6261-4008-b64c-66d8aac031d4"
      },
      "outputs": [
        {
          "output_type": "stream",
          "name": "stdout",
          "text": [
            "Epoch 1/5\n",
            "844/844 [==============================] - ETA: 0s - loss: 0.4378 - accuracy: 0.8391\n",
            "Epoch 1: val_accuracy improved from -inf to 0.89008, saving model to best_model_cnn.h5\n",
            "844/844 [==============================] - 13s 6ms/step - loss: 0.4378 - accuracy: 0.8391 - val_loss: 0.3071 - val_accuracy: 0.8901\n",
            "Epoch 2/5\n",
            "839/844 [============================>.] - ETA: 0s - loss: 0.2480 - accuracy: 0.9148\n",
            "Epoch 2: val_accuracy did not improve from 0.89008\n",
            "844/844 [==============================] - 4s 5ms/step - loss: 0.2482 - accuracy: 0.9147 - val_loss: 0.3142 - val_accuracy: 0.8878\n",
            "Epoch 3/5\n",
            "837/844 [============================>.] - ETA: 0s - loss: 0.1901 - accuracy: 0.9340\n",
            "Epoch 3: val_accuracy did not improve from 0.89008\n",
            "844/844 [==============================] - 4s 5ms/step - loss: 0.1903 - accuracy: 0.9340 - val_loss: 0.3433 - val_accuracy: 0.8796\n",
            "Epoch 4/5\n",
            "836/844 [============================>.] - ETA: 0s - loss: 0.1373 - accuracy: 0.9526\n",
            "Epoch 4: val_accuracy did not improve from 0.89008\n",
            "844/844 [==============================] - 4s 5ms/step - loss: 0.1375 - accuracy: 0.9525 - val_loss: 0.4075 - val_accuracy: 0.8683\n",
            "Epoch 5/5\n",
            "840/844 [============================>.] - ETA: 0s - loss: 0.0894 - accuracy: 0.9699\n",
            "Epoch 5: val_accuracy did not improve from 0.89008\n",
            "844/844 [==============================] - 4s 5ms/step - loss: 0.0895 - accuracy: 0.9699 - val_loss: 0.4878 - val_accuracy: 0.8698\n"
          ]
        }
      ],
      "source": [
        "history_cnn = model_cnn.fit(x_train, \n",
        "                            y_train, \n",
        "                            epochs=5,\n",
        "                            batch_size=128,\n",
        "                            validation_split=0.1,\n",
        "                            callbacks=[checkpoint_callback_cnn])"
      ]
    },
    {
      "cell_type": "code",
      "execution_count": 31,
      "metadata": {
        "colab": {
          "base_uri": "https://localhost:8080/",
          "height": 279
        },
        "id": "D87iUZmNP0rk",
        "outputId": "665c4436-6ee9-4a1c-b164-0f11d7c2c8a0"
      },
      "outputs": [
        {
          "output_type": "display_data",
          "data": {
            "text/plain": [
              "<Figure size 432x288 with 1 Axes>"
            ],
            "image/png": "[encoded data removed]"
          },
          "metadata": {
            "needs_background": "light"
          }
        }
      ],
      "source": [
        "plt.plot(history_cnn.history['accuracy'], \n",
        "         label='accuracy')\n",
        "plt.plot(history_cnn.history['val_accuracy'], \n",
        "         label='accuracy_val')\n",
        "plt.xlabel('Эпоха обучения')\n",
        "plt.ylabel('Доля верных ответов')\n",
        "plt.legend()\n",
        "plt.show()"
      ]
    },
    {
      "cell_type": "markdown",
      "metadata": {
        "id": "VFUTMuKL8SNY"
      },
      "source": [
        "## Cеть LSTM"
      ]
    },
    {
      "cell_type": "code",
      "execution_count": 32,
      "metadata": {
        "id": "s_ZqIgqS8SNa"
      },
      "outputs": [],
      "source": [
        "model_lstm = Sequential()\n",
        "model_lstm.add(Embedding(num_words, 32, input_length=max_news_len))\n",
        "model_lstm.add(LSTM(16))\n",
        "model_lstm.add(Dense(4, activation='softmax'))"
      ]
    },
    {
      "cell_type": "code",
      "execution_count": 33,
      "metadata": {
        "id": "IoxJ8kNf8SNc"
      },
      "outputs": [],
      "source": [
        "model_lstm.compile(optimizer='adam', \n",
        "              loss='categorical_crossentropy', \n",
        "              metrics=['accuracy'])"
      ]
    },
    {
      "cell_type": "code",
      "execution_count": 34,
      "metadata": {
        "colab": {
          "base_uri": "https://localhost:8080/"
        },
        "id": "KNc2OK3j8SNe",
        "outputId": "3cc1f403-246c-477d-c1ff-14438e0a7c09"
      },
      "outputs": [
        {
          "output_type": "stream",
          "name": "stdout",
          "text": [
            "Model: \"sequential_1\"\n",
            "_________________________________________________________________\n",
            " Layer (type)                Output Shape              Param #   \n",
            "=================================================================\n",
            " embedding_1 (Embedding)     (None, 30, 32)            320000    \n",
            "                                                                 \n",
            " lstm (LSTM)                 (None, 16)                3136      \n",
            "                                                                 \n",
            " dense_2 (Dense)             (None, 4)                 68        \n",
            "                                                                 \n",
            "=================================================================\n",
            "Total params: 323,204\n",
            "Trainable params: 323,204\n",
            "Non-trainable params: 0\n",
            "_________________________________________________________________\n"
          ]
        }
      ],
      "source": [
        "model_lstm.summary()"
      ]
    },
    {
      "cell_type": "markdown",
      "metadata": {
        "id": "KzJtvcIa8SNh"
      },
      "source": [
        "Создаем callback для сохранения нейронной сети на каждой эпохе, если качество работы на проверочном наборе данных улучшилось. Сеть сохраняется в файл `best_model.h5`"
      ]
    },
    {
      "cell_type": "code",
      "execution_count": 35,
      "metadata": {
        "id": "qCu0Xlyj8SNi"
      },
      "outputs": [],
      "source": [
        "model_lstm_save_path = 'best_model_lstm.h5'\n",
        "checkpoint_callback_lstm = ModelCheckpoint(model_lstm_save_path, \n",
        "                                      monitor='val_accuracy',\n",
        "                                      save_best_only=True,\n",
        "                                      verbose=1)"
      ]
    },
    {
      "cell_type": "code",
      "execution_count": 36,
      "metadata": {
        "colab": {
          "base_uri": "https://localhost:8080/"
        },
        "id": "znNeO0lO8SNk",
        "outputId": "84112a61-1eb9-4936-f1e8-cfc63ed3d87a"
      },
      "outputs": [
        {
          "output_type": "stream",
          "name": "stdout",
          "text": [
            "Epoch 1/5\n",
            "841/844 [============================>.] - ETA: 0s - loss: 0.4941 - accuracy: 0.8201\n",
            "Epoch 1: val_accuracy improved from -inf to 0.88850, saving model to best_model_lstm.h5\n",
            "844/844 [==============================] - 8s 6ms/step - loss: 0.4937 - accuracy: 0.8203 - val_loss: 0.3229 - val_accuracy: 0.8885\n",
            "Epoch 2/5\n",
            "843/844 [============================>.] - ETA: 0s - loss: 0.2728 - accuracy: 0.9119\n",
            "Epoch 2: val_accuracy improved from 0.88850 to 0.88908, saving model to best_model_lstm.h5\n",
            "844/844 [==============================] - 5s 6ms/step - loss: 0.2727 - accuracy: 0.9119 - val_loss: 0.3152 - val_accuracy: 0.8891\n",
            "Epoch 3/5\n",
            "841/844 [============================>.] - ETA: 0s - loss: 0.2355 - accuracy: 0.9236\n",
            "Epoch 3: val_accuracy did not improve from 0.88908\n",
            "844/844 [==============================] - 5s 6ms/step - loss: 0.2357 - accuracy: 0.9236 - val_loss: 0.3208 - val_accuracy: 0.8880\n",
            "Epoch 4/5\n",
            "840/844 [============================>.] - ETA: 0s - loss: 0.2108 - accuracy: 0.9309\n",
            "Epoch 4: val_accuracy did not improve from 0.88908\n",
            "844/844 [==============================] - 5s 6ms/step - loss: 0.2107 - accuracy: 0.9309 - val_loss: 0.3378 - val_accuracy: 0.8807\n",
            "Epoch 5/5\n",
            "842/844 [============================>.] - ETA: 0s - loss: 0.1885 - accuracy: 0.9375\n",
            "Epoch 5: val_accuracy did not improve from 0.88908\n",
            "844/844 [==============================] - 5s 6ms/step - loss: 0.1886 - accuracy: 0.9375 - val_loss: 0.3375 - val_accuracy: 0.8843\n"
          ]
        }
      ],
      "source": [
        "history_lstm = model_lstm.fit(x_train, \n",
        "                              y_train, \n",
        "                              epochs=5,\n",
        "                              batch_size=128,\n",
        "                              validation_split=0.1,\n",
        "                              callbacks=[checkpoint_callback_lstm])"
      ]
    },
    {
      "cell_type": "code",
      "execution_count": 37,
      "metadata": {
        "colab": {
          "base_uri": "https://localhost:8080/",
          "height": 279
        },
        "id": "iFTVTtcM8SNm",
        "outputId": "6fbce224-a9c5-4c06-a48c-47da22f186aa"
      },
      "outputs": [
        {
          "output_type": "display_data",
          "data": {
            "text/plain": [
              "<Figure size 432x288 with 1 Axes>"
            ],
            "image/png": "[encoded data removed]"
          },
          "metadata": {
            "needs_background": "light"
          }
        }
      ],
      "source": [
        "plt.plot(history_lstm.history['accuracy'], \n",
        "         label='accuracy')\n",
        "plt.plot(history_lstm.history['val_accuracy'], \n",
        "         label='accuracy_val')\n",
        "plt.xlabel('Эпоха обучения')\n",
        "plt.ylabel('Доля верных ответов')\n",
        "plt.legend()\n",
        "plt.show()"
      ]
    },
    {
      "cell_type": "markdown",
      "metadata": {
        "id": "rKlSelFd9N7X"
      },
      "source": [
        "## Cеть GRU"
      ]
    },
    {
      "cell_type": "code",
      "execution_count": 38,
      "metadata": {
        "id": "cX6ixo129N7Y"
      },
      "outputs": [],
      "source": [
        "model_gru = Sequential()\n",
        "model_gru.add(Embedding(num_words, 32, input_length=max_news_len))\n",
        "model_gru.add(GRU(16))\n",
        "model_gru.add(Dense(4, activation='softmax'))"
      ]
    },
    {
      "cell_type": "code",
      "execution_count": 39,
      "metadata": {
        "id": "x6jjohYc9N7a"
      },
      "outputs": [],
      "source": [
        "model_gru.compile(optimizer='adam', \n",
        "              loss='categorical_crossentropy', \n",
        "              metrics=['accuracy'])"
      ]
    },
    {
      "cell_type": "code",
      "execution_count": 40,
      "metadata": {
        "colab": {
          "base_uri": "https://localhost:8080/"
        },
        "id": "O5hVTQ389N7c",
        "outputId": "1e5f64fa-7729-4e0d-c69e-f385fb22fa9d"
      },
      "outputs": [
        {
          "output_type": "stream",
          "name": "stdout",
          "text": [
            "Model: \"sequential_2\"\n",
            "_________________________________________________________________\n",
            " Layer (type)                Output Shape              Param #   \n",
            "=================================================================\n",
            " embedding_2 (Embedding)     (None, 30, 32)            320000    \n",
            "                                                                 \n",
            " gru (GRU)                   (None, 16)                2400      \n",
            "                                                                 \n",
            " dense_3 (Dense)             (None, 4)                 68        \n",
            "                                                                 \n",
            "=================================================================\n",
            "Total params: 322,468\n",
            "Trainable params: 322,468\n",
            "Non-trainable params: 0\n",
            "_________________________________________________________________\n"
          ]
        }
      ],
      "source": [
        "model_gru.summary()"
      ]
    },
    {
      "cell_type": "markdown",
      "metadata": {
        "id": "fT4H-dh99N7f"
      },
      "source": [
        "Создаем callback для сохранения нейронной сети на каждой эпохе, если качество работы на проверочном наборе данных улучшилось. Сеть сохраняется в файл `best_model_gru.h5`"
      ]
    },
    {
      "cell_type": "code",
      "execution_count": 41,
      "metadata": {
        "id": "gVkz3fpH9N7f"
      },
      "outputs": [],
      "source": [
        "model_gru_save_path = 'best_model_gru.h5'\n",
        "checkpoint_callback_gru = ModelCheckpoint(model_gru_save_path, \n",
        "                                      monitor='val_accuracy',\n",
        "                                      save_best_only=True,\n",
        "                                      verbose=1)"
      ]
    },
    {
      "cell_type": "code",
      "execution_count": 42,
      "metadata": {
        "colab": {
          "base_uri": "https://localhost:8080/"
        },
        "id": "RjIx2P-S9N7h",
        "outputId": "49bc94c0-26a9-421b-94c6-0bd3e1092276"
      },
      "outputs": [
        {
          "output_type": "stream",
          "name": "stdout",
          "text": [
            "Epoch 1/5\n",
            "837/844 [============================>.] - ETA: 0s - loss: 0.5460 - accuracy: 0.8034\n",
            "Epoch 1: val_accuracy improved from -inf to 0.88967, saving model to best_model_gru.h5\n",
            "844/844 [==============================] - 6s 6ms/step - loss: 0.5445 - accuracy: 0.8040 - val_loss: 0.3224 - val_accuracy: 0.8897\n",
            "Epoch 2/5\n",
            "838/844 [============================>.] - ETA: 0s - loss: 0.2795 - accuracy: 0.9092\n",
            "Epoch 2: val_accuracy improved from 0.88967 to 0.89467, saving model to best_model_gru.h5\n",
            "844/844 [==============================] - 5s 6ms/step - loss: 0.2793 - accuracy: 0.9092 - val_loss: 0.3060 - val_accuracy: 0.8947\n",
            "Epoch 3/5\n",
            "842/844 [============================>.] - ETA: 0s - loss: 0.2401 - accuracy: 0.9225\n",
            "Epoch 3: val_accuracy did not improve from 0.89467\n",
            "844/844 [==============================] - 5s 6ms/step - loss: 0.2401 - accuracy: 0.9224 - val_loss: 0.3234 - val_accuracy: 0.8863\n",
            "Epoch 4/5\n",
            "844/844 [==============================] - ETA: 0s - loss: 0.2191 - accuracy: 0.9283\n",
            "Epoch 4: val_accuracy did not improve from 0.89467\n",
            "844/844 [==============================] - 5s 6ms/step - loss: 0.2191 - accuracy: 0.9283 - val_loss: 0.3299 - val_accuracy: 0.8842\n",
            "Epoch 5/5\n",
            "837/844 [============================>.] - ETA: 0s - loss: 0.2029 - accuracy: 0.9333\n",
            "Epoch 5: val_accuracy did not improve from 0.89467\n",
            "844/844 [==============================] - 5s 6ms/step - loss: 0.2028 - accuracy: 0.9333 - val_loss: 0.3418 - val_accuracy: 0.8826\n"
          ]
        }
      ],
      "source": [
        "history_gru = model_gru.fit(x_train, \n",
        "                              y_train, \n",
        "                              epochs=5,\n",
        "                              batch_size=128,\n",
        "                              validation_split=0.1,\n",
        "                              callbacks=[checkpoint_callback_gru])"
      ]
    },
    {
      "cell_type": "code",
      "execution_count": 43,
      "metadata": {
        "colab": {
          "base_uri": "https://localhost:8080/",
          "height": 279
        },
        "id": "0ivAKvRU9N7j",
        "outputId": "cac95622-368d-4416-eb1e-a043511cdd56"
      },
      "outputs": [
        {
          "output_type": "display_data",
          "data": {
            "text/plain": [
              "<Figure size 432x288 with 1 Axes>"
            ],
            "image/png": "[encoded data removed]"
          },
          "metadata": {
            "needs_background": "light"
          }
        }
      ],
      "source": [
        "plt.plot(history_gru.history['accuracy'], \n",
        "         label='accuracy')\n",
        "plt.plot(history_gru.history['val_accuracy'], \n",
        "         label='accuracy_val')\n",
        "plt.xlabel('Эпоха обучения')\n",
        "plt.ylabel('Доля верных ответов')\n",
        "plt.legend()\n",
        "plt.show()"
      ]
    },
    {
      "cell_type": "markdown",
      "metadata": {
        "id": "Ma51nugyR5Ct"
      },
      "source": [
        "## Загружаем набор данных для тестирования"
      ]
    },
    {
      "cell_type": "code",
      "execution_count": 44,
      "metadata": {
        "id": "0OQ9iHYWYJ7G"
      },
      "outputs": [],
      "source": [
        "test = pd.read_csv('test.csv', \n",
        "                    header=None, \n",
        "                    names=['class', 'title', 'text'])"
      ]
    },
    {
      "cell_type": "code",
      "execution_count": 45,
      "metadata": {
        "colab": {
          "base_uri": "https://localhost:8080/",
          "height": 423
        },
        "id": "4W8Exe9nYYC6",
        "outputId": "af72e829-a44c-43aa-d654-693e9749301e"
      },
      "outputs": [
        {
          "output_type": "execute_result",
          "data": {
            "text/plain": [
              "      class                                              title  \\\n",
              "0         3                  Fears for T N pension after talks   \n",
              "1         4  The Race is On: Second Private Team Sets Launc...   \n",
              "2         4      Ky. Company Wins Grant to Study Peptides (AP)   \n",
              "3         4      Prediction Unit Helps Forecast Wildfires (AP)   \n",
              "4         4        Calif. Aims to Limit Farm-Related Smog (AP)   \n",
              "...     ...                                                ...   \n",
              "7595      1                                   Around the world   \n",
              "7596      2                        Void is filled with Clement   \n",
              "7597      2                             Martinez leaves bitter   \n",
              "7598      3  5 of arthritis patients in Singapore take Bext...   \n",
              "7599      3                             EBay gets into rentals   \n",
              "\n",
              "                                                   text  \n",
              "0     Unions representing workers at Turner   Newall...  \n",
              "1     SPACE.com - TORONTO, Canada -- A second\\team o...  \n",
              "2     AP - A company founded by a chemistry research...  \n",
              "3     AP - It's barely dawn when Mike Fitzpatrick st...  \n",
              "4     AP - Southern California's smog-fighting agenc...  \n",
              "...                                                 ...  \n",
              "7595  Ukrainian presidential candidate Viktor Yushch...  \n",
              "7596  With the supply of attractive pitching options...  \n",
              "7597  Like Roger Clemens did almost exactly eight ye...  \n",
              "7598  SINGAPORE : Doctors in the United States have ...  \n",
              "7599  EBay plans to buy the apartment and home renta...  \n",
              "\n",
              "[7600 rows x 3 columns]"
            ],
            "text/html": [
              "\n",
              "  <div id=\"df-035c193d-a68f-439a-bdf4-0e896ca0cfa9\">\n",
              "    <div class=\"colab-df-container\">\n",
              "      <div>\n",
              "<style scoped>\n",
              "    .dataframe tbody tr th:only-of-type {\n",
              "        vertical-align: middle;\n",
              "    }\n",
              "\n",
              "    .dataframe tbody tr th {\n",
              "        vertical-align: top;\n",
              "    }\n",
              "\n",
              "    .dataframe thead th {\n",
              "        text-align: right;\n",
              "    }\n",
              "</style>\n",
              "<table border=\"1\" class=\"dataframe\">\n",
              "  <thead>\n",
              "    <tr style=\"text-align: right;\">\n",
              "      <th></th>\n",
              "      <th>class</th>\n",
              "      <th>title</th>\n",
              "      <th>text</th>\n",
              "    </tr>\n",
              "  </thead>\n",
              "  <tbody>\n",
              "    <tr>\n",
              "      <th>0</th>\n",
              "      <td>3</td>\n",
              "      <td>Fears for T N pension after talks</td>\n",
              "      <td>Unions representing workers at Turner   Newall...</td>\n",
              "    </tr>\n",
              "    <tr>\n",
              "      <th>1</th>\n",
              "      <td>4</td>\n",
              "      <td>The Race is On: Second Private Team Sets Launc...</td>\n",
              "      <td>SPACE.com - TORONTO, Canada -- A second\\team o...</td>\n",
              "    </tr>\n",
              "    <tr>\n",
              "      <th>2</th>\n",
              "      <td>4</td>\n",
              "      <td>Ky. Company Wins Grant to Study Peptides (AP)</td>\n",
              "      <td>AP - A company founded by a chemistry research...</td>\n",
              "    </tr>\n",
              "    <tr>\n",
              "      <th>3</th>\n",
              "      <td>4</td>\n",
              "      <td>Prediction Unit Helps Forecast Wildfires (AP)</td>\n",
              "      <td>AP - It's barely dawn when Mike Fitzpatrick st...</td>\n",
              "    </tr>\n",
              "    <tr>\n",
              "      <th>4</th>\n",
              "      <td>4</td>\n",
              "      <td>Calif. Aims to Limit Farm-Related Smog (AP)</td>\n",
              "      <td>AP - Southern California's smog-fighting agenc...</td>\n",
              "    </tr>\n",
              "    <tr>\n",
              "      <th>...</th>\n",
              "      <td>...</td>\n",
              "      <td>...</td>\n",
              "      <td>...</td>\n",
              "    </tr>\n",
              "    <tr>\n",
              "      <th>7595</th>\n",
              "      <td>1</td>\n",
              "      <td>Around the world</td>\n",
              "      <td>Ukrainian presidential candidate Viktor Yushch...</td>\n",
              "    </tr>\n",
              "    <tr>\n",
              "      <th>7596</th>\n",
              "      <td>2</td>\n",
              "      <td>Void is filled with Clement</td>\n",
              "      <td>With the supply of attractive pitching options...</td>\n",
              "    </tr>\n",
              "    <tr>\n",
              "      <th>7597</th>\n",
              "      <td>2</td>\n",
              "      <td>Martinez leaves bitter</td>\n",
              "      <td>Like Roger Clemens did almost exactly eight ye...</td>\n",
              "    </tr>\n",
              "    <tr>\n",
              "      <th>7598</th>\n",
              "      <td>3</td>\n",
              "      <td>5 of arthritis patients in Singapore take Bext...</td>\n",
              "      <td>SINGAPORE : Doctors in the United States have ...</td>\n",
              "    </tr>\n",
              "    <tr>\n",
              "      <th>7599</th>\n",
              "      <td>3</td>\n",
              "      <td>EBay gets into rentals</td>\n",
              "      <td>EBay plans to buy the apartment and home renta...</td>\n",
              "    </tr>\n",
              "  </tbody>\n",
              "</table>\n",
              "<p>7600 rows × 3 columns</p>\n",
              "</div>\n",
              "      <button class=\"colab-df-convert\" onclick=\"convertToInteractive('df-035c193d-a68f-439a-bdf4-0e896ca0cfa9')\"\n",
              "              title=\"Convert this dataframe to an interactive table.\"\n",
              "              style=\"display:none;\">\n",
              "        \n",
              "  <svg xmlns=\"http://www.w3.org/2000/svg\" height=\"24px\"viewBox=\"0 0 24 24\"\n",
              "       width=\"24px\">\n",
              "    <path d=\"M0 0h24v24H0V0z\" fill=\"none\"/>\n",
              "    <path d=\"M18.56 5.44l.94 2.06.94-2.06 2.06-.94-2.06-.94-.94-2.06-.94 2.06-2.06.94zm-11 1L8.5 8.5l.94-2.06 2.06-.94-2.06-.94L8.5 2.5l-.94 2.06-2.06.94zm10 10l.94 2.06.94-2.06 2.06-.94-2.06-.94-.94-2.06-.94 2.06-2.06.94z\"/><path d=\"M17.41 7.96l-1.37-1.37c-.4-.4-.92-.59-1.43-.59-.52 0-1.04.2-1.43.59L10.3 9.45l-7.72 7.72c-.78.78-.78 2.05 0 2.83L4 21.41c.39.39.9.59 1.41.59.51 0 1.02-.2 1.41-.59l7.78-7.78 2.81-2.81c.8-.78.8-2.07 0-2.86zM5.41 20L4 18.59l7.72-7.72 1.47 1.35L5.41 20z\"/>\n",
              "  </svg>\n",
              "      </button>\n",
              "      \n",
              "  <style>\n",
              "    .colab-df-container {\n",
              "      display:flex;\n",
              "      flex-wrap:wrap;\n",
              "      gap: 12px;\n",
              "    }\n",
              "\n",
              "    .colab-df-convert {\n",
              "      background-color: #E8F0FE;\n",
              "      border: none;\n",
              "      border-radius: 50%;\n",
              "      cursor: pointer;\n",
              "      display: none;\n",
              "      fill: #1967D2;\n",
              "      height: 32px;\n",
              "      padding: 0 0 0 0;\n",
              "      width: 32px;\n",
              "    }\n",
              "\n",
              "    .colab-df-convert:hover {\n",
              "      background-color: #E2EBFA;\n",
              "      box-shadow: 0px 1px 2px rgba(60, 64, 67, 0.3), 0px 1px 3px 1px rgba(60, 64, 67, 0.15);\n",
              "      fill: #174EA6;\n",
              "    }\n",
              "\n",
              "    [theme=dark] .colab-df-convert {\n",
              "      background-color: #3B4455;\n",
              "      fill: #D2E3FC;\n",
              "    }\n",
              "\n",
              "    [theme=dark] .colab-df-convert:hover {\n",
              "      background-color: #434B5C;\n",
              "      box-shadow: 0px 1px 3px 1px rgba(0, 0, 0, 0.15);\n",
              "      filter: drop-shadow(0px 1px 2px rgba(0, 0, 0, 0.3));\n",
              "      fill: #FFFFFF;\n",
              "    }\n",
              "  </style>\n",
              "\n",
              "      <script>\n",
              "        const buttonEl =\n",
              "          document.querySelector('#df-035c193d-a68f-439a-bdf4-0e896ca0cfa9 button.colab-df-convert');\n",
              "        buttonEl.style.display =\n",
              "          google.colab.kernel.accessAllowed ? 'block' : 'none';\n",
              "\n",
              "        async function convertToInteractive(key) {\n",
              "          const element = document.querySelector('#df-035c193d-a68f-439a-bdf4-0e896ca0cfa9');\n",
              "          const dataTable =\n",
              "            await google.colab.kernel.invokeFunction('convertToInteractive',\n",
              "                                                     [key], {});\n",
              "          if (!dataTable) return;\n",
              "\n",
              "          const docLinkHtml = 'Like what you see? Visit the ' +\n",
              "            '<a target=\"_blank\" href=https://colab.research.google.com/notebooks/data_table.ipynb>data table notebook</a>'\n",
              "            + ' to learn more about interactive tables.';\n",
              "          element.innerHTML = '';\n",
              "          dataTable['output_type'] = 'display_data';\n",
              "          await google.colab.output.renderOutput(dataTable, element);\n",
              "          const docLink = document.createElement('div');\n",
              "          docLink.innerHTML = docLinkHtml;\n",
              "          element.appendChild(docLink);\n",
              "        }\n",
              "      </script>\n",
              "    </div>\n",
              "  </div>\n",
              "  "
            ]
          },
          "metadata": {},
          "execution_count": 45
        }
      ],
      "source": [
        "test"
      ]
    },
    {
      "cell_type": "markdown",
      "metadata": {
        "id": "xgEjSpX5biaJ"
      },
      "source": [
        "Преобразуем новости в числовое представление\n",
        "\n",
        "Обратите внимание, что нужно использовать токенизатор, обученный на наборе данных train."
      ]
    },
    {
      "cell_type": "code",
      "execution_count": 46,
      "metadata": {
        "id": "wE8JtIgybvLx"
      },
      "outputs": [],
      "source": [
        "test_sequences = tokenizer.texts_to_sequences(test['text'])"
      ]
    },
    {
      "cell_type": "code",
      "execution_count": 47,
      "metadata": {
        "id": "haKQPtc-byBf"
      },
      "outputs": [],
      "source": [
        "x_test = pad_sequences(test_sequences, maxlen=max_news_len)"
      ]
    },
    {
      "cell_type": "code",
      "execution_count": 48,
      "metadata": {
        "colab": {
          "base_uri": "https://localhost:8080/"
        },
        "id": "LQsqVZedb-Qf",
        "outputId": "f242640e-41d3-42f7-a490-54096dd6274d"
      },
      "outputs": [
        {
          "output_type": "execute_result",
          "data": {
            "text/plain": [
              "array([[   0,    0,    0,    0,    0,    0,    0,    0,    0,    0,    0,\n",
              "           0,    0,    0, 2020, 3371,  449,   15, 6956,  252,   60,   33,\n",
              "          28,  289,   12, 9088, 2184,  371,  169, 9284],\n",
              "       [  92,  119,    4, 3472,    8,    1,  402,  134,   75, 5471, 1516,\n",
              "        1227,    2, 3436,    8, 2744, 5220,  230,  936,   20, 2148,  117,\n",
              "           1,   38,  561, 1974,    8,   14, 3957, 1218],\n",
              "       [   2,   52, 5787,   18,    2, 4914,   15,    1,  525,    4, 4586,\n",
              "         227,    2, 3922,    3, 1316,    2, 6888,    4, 2893,  576,   84,\n",
              "          33,  758, 6515,    4,    1, 1013, 5154,    4],\n",
              "       [9642, 1291,    6, 8714,   41,  671,   40, 2977,  177,    1,  108,\n",
              "          26, 1027, 7300,   26,  760,    5, 3356,   40, 1271, 2450,   26,\n",
              "        2170,   50, 3356,   26, 7415,    6, 9153,   26],\n",
              "       [   0,    0,    0,    0,    0,    0,   39,  493, 7343,  832,  400,\n",
              "         820,   28, 3827,    4,    1, 4474,   54, 9411,    1, 1273,   38,\n",
              "        1230,    3, 1365,  348, 3899,   23, 5065, 5091]], dtype=int32)"
            ]
          },
          "metadata": {},
          "execution_count": 48
        }
      ],
      "source": [
        "x_test[:5]"
      ]
    },
    {
      "cell_type": "markdown",
      "metadata": {
        "id": "afswW4zVcPfT"
      },
      "source": [
        "Правильные ответы"
      ]
    },
    {
      "cell_type": "code",
      "execution_count": 49,
      "metadata": {
        "id": "tsdQdcvBcFsv"
      },
      "outputs": [],
      "source": [
        "y_test = utils.to_categorical(test['class'] - 1, nb_classes)"
      ]
    },
    {
      "cell_type": "code",
      "execution_count": 50,
      "metadata": {
        "colab": {
          "base_uri": "https://localhost:8080/"
        },
        "id": "86TiWSg8cYkI",
        "outputId": "d4692632-850c-4644-c779-c8201c3f47fd"
      },
      "outputs": [
        {
          "output_type": "execute_result",
          "data": {
            "text/plain": [
              "array([[0., 0., 1., 0.],\n",
              "       [0., 0., 0., 1.],\n",
              "       [0., 0., 0., 1.],\n",
              "       ...,\n",
              "       [0., 1., 0., 0.],\n",
              "       [0., 0., 1., 0.],\n",
              "       [0., 0., 1., 0.]], dtype=float32)"
            ]
          },
          "metadata": {},
          "execution_count": 50
        }
      ],
      "source": [
        "y_test"
      ]
    },
    {
      "cell_type": "markdown",
      "metadata": {
        "id": "3DJbzO3ucewV"
      },
      "source": [
        "## Оцениваем качество работы сети на тестовом наборе данных"
      ]
    },
    {
      "cell_type": "markdown",
      "metadata": {
        "id": "5XYdOGmL_szI"
      },
      "source": [
        "### Одномерная сверточная сеть "
      ]
    },
    {
      "cell_type": "code",
      "execution_count": 51,
      "metadata": {
        "id": "-HUt8GsfAM4z"
      },
      "outputs": [],
      "source": [
        "model_cnn.load_weights(model_cnn_save_path)"
      ]
    },
    {
      "cell_type": "code",
      "execution_count": 52,
      "metadata": {
        "colab": {
          "base_uri": "https://localhost:8080/"
        },
        "id": "MkFvNfFPcaPX",
        "outputId": "19e61556-b9ee-4c8b-9e56-538a5950d700"
      },
      "outputs": [
        {
          "output_type": "stream",
          "name": "stdout",
          "text": [
            "238/238 [==============================] - 1s 4ms/step - loss: 0.3153 - accuracy: 0.8937\n"
          ]
        },
        {
          "output_type": "execute_result",
          "data": {
            "text/plain": [
              "[0.3153044581413269, 0.8936842083930969]"
            ]
          },
          "metadata": {},
          "execution_count": 52
        }
      ],
      "source": [
        "model_cnn.evaluate(x_test, y_test, verbose=1)"
      ]
    },
    {
      "cell_type": "markdown",
      "metadata": {
        "id": "YHs8Q5vqAlqC"
      },
      "source": [
        "### Сеть LSTM"
      ]
    },
    {
      "cell_type": "code",
      "execution_count": 53,
      "metadata": {
        "id": "OEzSL_M-ApHx"
      },
      "outputs": [],
      "source": [
        "model_lstm.load_weights(model_lstm_save_path)"
      ]
    },
    {
      "cell_type": "code",
      "execution_count": 54,
      "metadata": {
        "colab": {
          "base_uri": "https://localhost:8080/"
        },
        "id": "fcGg4jA9AqN4",
        "outputId": "782efdc7-59ba-4782-d44e-82068bda388b"
      },
      "outputs": [
        {
          "output_type": "stream",
          "name": "stdout",
          "text": [
            "238/238 [==============================] - 1s 3ms/step - loss: 0.3180 - accuracy: 0.8943\n"
          ]
        },
        {
          "output_type": "execute_result",
          "data": {
            "text/plain": [
              "[0.31804701685905457, 0.8943421244621277]"
            ]
          },
          "metadata": {},
          "execution_count": 54
        }
      ],
      "source": [
        "model_lstm.evaluate(x_test, y_test, verbose=1)"
      ]
    },
    {
      "cell_type": "markdown",
      "metadata": {
        "id": "NiAwR86MA2_l"
      },
      "source": [
        "### Сеть GRU"
      ]
    },
    {
      "cell_type": "code",
      "execution_count": 55,
      "metadata": {
        "id": "dbgVW71aA2_o"
      },
      "outputs": [],
      "source": [
        "model_gru.load_weights(model_gru_save_path)"
      ]
    },
    {
      "cell_type": "code",
      "execution_count": 56,
      "metadata": {
        "colab": {
          "base_uri": "https://localhost:8080/"
        },
        "id": "oB-t_8fLA2_s",
        "outputId": "fd664204-1f0f-4bf3-9fcd-8cee947b0409"
      },
      "outputs": [
        {
          "output_type": "stream",
          "name": "stdout",
          "text": [
            "238/238 [==============================] - 1s 3ms/step - loss: 0.3142 - accuracy: 0.8951\n"
          ]
        },
        {
          "output_type": "execute_result",
          "data": {
            "text/plain": [
              "[0.314212828874588, 0.8951315879821777]"
            ]
          },
          "metadata": {},
          "execution_count": 56
        }
      ],
      "source": [
        "model_gru.evaluate(x_test, y_test, verbose=1)"
      ]
    }
  ],
  "metadata": {
    "accelerator": "GPU",
    "colab": {
      "provenance": []
    },
    "gpuClass": "standard",
    "kernelspec": {
      "display_name": "tensorflow",
      "language": "python",
      "name": "python3"
    },
    "language_info": {
      "codemirror_mode": {
        "name": "ipython",
        "version": 3
      },
      "file_extension": ".py",
      "mimetype": "text/x-python",
      "name": "python",
      "nbconvert_exporter": "python",
      "pygments_lexer": "ipython3",
      "version": "3.9.13"
    },
    "vscode": {
      "interpreter": {
        "hash": "b1642829dcebbd77a336cda3c18415e52f062b425948f92aed2c81643aba730e"
      }
    }
  },
  "nbformat": 4,
  "nbformat_minor": 0
}